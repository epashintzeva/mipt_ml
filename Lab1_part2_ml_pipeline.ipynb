{
  "cells": [
    {
      "cell_type": "markdown",
      "metadata": {
        "nbgrader": {
          "grade": false,
          "grade_id": "cell-86e0de040aac317a",
          "locked": true,
          "schema_version": 2,
          "solution": false
        },
        "id": "lHH3apxgBoVB"
      },
      "source": [
        "# Lab assignment №1, part 2\n",
        "\n",
        "This lab assignment consists of several parts. You are supposed to make some transformations, train some models, estimate the quality of the models and explain your results.\n",
        "\n",
        "Several comments:\n",
        "* Don't hesitate to ask questions, it's a good practice.\n",
        "* No private/public sharing, please. The copied assignments will be graded with 0 points.\n",
        "* Blocks of this lab will be graded separately."
      ]
    },
    {
      "cell_type": "markdown",
      "metadata": {
        "id": "GxQP4edKBoVC"
      },
      "source": [
        "__*This is the second part of the assignment. First and third parts are waiting for you in the same directory.*__"
      ]
    },
    {
      "cell_type": "markdown",
      "metadata": {
        "nbgrader": {
          "grade": false,
          "grade_id": "cell-512ba712fc0fc065",
          "locked": true,
          "schema_version": 2,
          "solution": false
        },
        "id": "1knXwRrKBoVD"
      },
      "source": [
        "## Part 2. Data preprocessing, model training and evaluation."
      ]
    },
    {
      "cell_type": "markdown",
      "metadata": {
        "nbgrader": {
          "grade": false,
          "grade_id": "cell-b656a4266174b009",
          "locked": true,
          "schema_version": 2,
          "solution": false
        },
        "id": "YABx-RTyBoVD"
      },
      "source": [
        "### 1. Reading the data\n",
        "Today we work with the [dataset](https://archive.ics.uci.edu/ml/datasets/Statlog+%28Vehicle+Silhouettes%29), describing different cars for multiclass ($k=4$) classification problem. The data is available below."
      ]
    },
    {
      "cell_type": "code",
      "execution_count": null,
      "metadata": {
        "id": "y-rG9NhBBoVE",
        "outputId": "48598e20-d819-48cb-d4bc-d866e8bd2e49",
        "colab": {
          "base_uri": "https://localhost:8080/"
        }
      },
      "outputs": [
        {
          "output_type": "stream",
          "name": "stdout",
          "text": [
            "--2023-01-06 17:46:29--  https://raw.githubusercontent.com/girafe-ai/ml-course/22f_made/homeworks/lab01_ml_pipeline/car_data.csv\n",
            "Resolving raw.githubusercontent.com (raw.githubusercontent.com)... 185.199.110.133, 185.199.108.133, 185.199.111.133, ...\n",
            "Connecting to raw.githubusercontent.com (raw.githubusercontent.com)|185.199.110.133|:443... connected.\n",
            "HTTP request sent, awaiting response... 200 OK\n",
            "Length: 58374 (57K) [text/plain]\n",
            "Saving to: ‘car_data.csv’\n",
            "\n",
            "\rcar_data.csv          0%[                    ]       0  --.-KB/s               \rcar_data.csv        100%[===================>]  57.01K  --.-KB/s    in 0.004s  \n",
            "\n",
            "2023-01-06 17:46:29 (14.3 MB/s) - ‘car_data.csv’ saved [58374/58374]\n",
            "\n"
          ]
        }
      ],
      "source": [
        "# If on colab, uncomment the following lines\n",
        "\n",
        "! wget https://raw.githubusercontent.com/girafe-ai/ml-course/22f_made/homeworks/lab01_ml_pipeline/car_data.csv"
      ]
    },
    {
      "cell_type": "code",
      "execution_count": null,
      "metadata": {
        "nbgrader": {
          "grade": false,
          "grade_id": "cell-eebac6bfdf73d0bc",
          "locked": true,
          "schema_version": 2,
          "solution": false
        },
        "id": "En90oo8uBoVE",
        "outputId": "6250e740-ebcd-4844-a946-587ba7057893",
        "colab": {
          "base_uri": "https://localhost:8080/"
        }
      },
      "outputs": [
        {
          "output_type": "stream",
          "name": "stdout",
          "text": [
            "(846, 19) (846,)\n",
            "(549, 19) (549,) (297, 19) (297,)\n"
          ]
        }
      ],
      "source": [
        "import pandas as pd\n",
        "import numpy as np\n",
        "from sklearn.model_selection import train_test_split\n",
        "\n",
        "dataset = pd.read_csv('car_data.csv', delimiter=',', header=None).values\n",
        "data = dataset[:, :-1].astype(int)\n",
        "target = dataset[:, -1]\n",
        "\n",
        "print(data.shape, target.shape)\n",
        "\n",
        "X_train, X_test, y_train, y_test = train_test_split(data, target, test_size=0.35)\n",
        "print(X_train.shape, y_train.shape, X_test.shape, y_test.shape)"
      ]
    },
    {
      "cell_type": "markdown",
      "metadata": {
        "nbgrader": {
          "grade": false,
          "grade_id": "cell-88b1a0f688568f2c",
          "locked": true,
          "schema_version": 2,
          "solution": false
        },
        "id": "rENo5D2kBoVF"
      },
      "source": [
        "To get some insights about the dataset, `pandas` might be used. The `train` part is transformed to `pd.DataFrame` below."
      ]
    },
    {
      "cell_type": "code",
      "execution_count": null,
      "metadata": {
        "id": "skZ83Yk_BoVG",
        "outputId": "87a66a2d-9b8e-4142-9bd2-911e713a5131",
        "colab": {
          "base_uri": "https://localhost:8080/",
          "height": 520
        }
      },
      "outputs": [
        {
          "output_type": "execute_result",
          "data": {
            "text/plain": [
              "     0    1   2    3    4   5   6    7   8   9    10   11   12   13  14  15  \\\n",
              "0   107   85  39   77  151  59   8  150  45  19  134  176  331  133  73   0   \n",
              "1   717   96  46   74  202  74   5  163  39  20  149  185  408  191  70   7   \n",
              "2   214   89  36   72  141  56   7  138  48  18  126  163  286  130  72   1   \n",
              "3   505  115  53  100  205  64  11  220  30  25  166  229  710  214  71  21   \n",
              "4   198   81  46   71  130  56   7  153  44  19  149  172  342  191  81   3   \n",
              "5    93   94  48   87  162  64  10  157  43  20  161  179  363  186  75   4   \n",
              "6   577   99  54  100  199  62   9  200  33  23  166  222  600  241  70   2   \n",
              "7   323   98  51   96  203  66  10  188  35  22  157  207  533  231  68  10   \n",
              "8    89   80  37   57  116  55   6  125  54  18  125  142  229  132  81   8   \n",
              "9   321  113  57  109  194  56   6  260  26  28  175  288  982  261  85  11   \n",
              "10   66   81  43   68  125  57   8  149  46  19  146  169  323  172  83   6   \n",
              "11  692  108  51  100  206  63  10  196  34  23  159  214  576  201  65   7   \n",
              "12  166   92  36   78  165  57   8  153  43  19  128  169  349  124  60   4   \n",
              "13  211   86  37   69  150  63   8  138  48  18  134  163  284  124  71   1   \n",
              "14  555   87  49   86  190  64   9  177  37  21  153  197  471  209  67  11   \n",
              "\n",
              "    16   17   18  \n",
              "0   16  184  193  \n",
              "1    8  196  200  \n",
              "2    1  187  192  \n",
              "3   11  189  199  \n",
              "4   14  180  186  \n",
              "5   15  184  195  \n",
              "6    7  189  198  \n",
              "7    1  191  199  \n",
              "8    5  178  184  \n",
              "9   21  182  183  \n",
              "10  18  179  184  \n",
              "11  16  194  205  \n",
              "12  19  203  211  \n",
              "13   6  189  195  \n",
              "14   7  192  199  "
            ],
            "text/html": [
              "\n",
              "  <div id=\"df-5d3c7155-0393-40e4-bccd-288959dbb5fe\">\n",
              "    <div class=\"colab-df-container\">\n",
              "      <div>\n",
              "<style scoped>\n",
              "    .dataframe tbody tr th:only-of-type {\n",
              "        vertical-align: middle;\n",
              "    }\n",
              "\n",
              "    .dataframe tbody tr th {\n",
              "        vertical-align: top;\n",
              "    }\n",
              "\n",
              "    .dataframe thead th {\n",
              "        text-align: right;\n",
              "    }\n",
              "</style>\n",
              "<table border=\"1\" class=\"dataframe\">\n",
              "  <thead>\n",
              "    <tr style=\"text-align: right;\">\n",
              "      <th></th>\n",
              "      <th>0</th>\n",
              "      <th>1</th>\n",
              "      <th>2</th>\n",
              "      <th>3</th>\n",
              "      <th>4</th>\n",
              "      <th>5</th>\n",
              "      <th>6</th>\n",
              "      <th>7</th>\n",
              "      <th>8</th>\n",
              "      <th>9</th>\n",
              "      <th>10</th>\n",
              "      <th>11</th>\n",
              "      <th>12</th>\n",
              "      <th>13</th>\n",
              "      <th>14</th>\n",
              "      <th>15</th>\n",
              "      <th>16</th>\n",
              "      <th>17</th>\n",
              "      <th>18</th>\n",
              "    </tr>\n",
              "  </thead>\n",
              "  <tbody>\n",
              "    <tr>\n",
              "      <th>0</th>\n",
              "      <td>107</td>\n",
              "      <td>85</td>\n",
              "      <td>39</td>\n",
              "      <td>77</td>\n",
              "      <td>151</td>\n",
              "      <td>59</td>\n",
              "      <td>8</td>\n",
              "      <td>150</td>\n",
              "      <td>45</td>\n",
              "      <td>19</td>\n",
              "      <td>134</td>\n",
              "      <td>176</td>\n",
              "      <td>331</td>\n",
              "      <td>133</td>\n",
              "      <td>73</td>\n",
              "      <td>0</td>\n",
              "      <td>16</td>\n",
              "      <td>184</td>\n",
              "      <td>193</td>\n",
              "    </tr>\n",
              "    <tr>\n",
              "      <th>1</th>\n",
              "      <td>717</td>\n",
              "      <td>96</td>\n",
              "      <td>46</td>\n",
              "      <td>74</td>\n",
              "      <td>202</td>\n",
              "      <td>74</td>\n",
              "      <td>5</td>\n",
              "      <td>163</td>\n",
              "      <td>39</td>\n",
              "      <td>20</td>\n",
              "      <td>149</td>\n",
              "      <td>185</td>\n",
              "      <td>408</td>\n",
              "      <td>191</td>\n",
              "      <td>70</td>\n",
              "      <td>7</td>\n",
              "      <td>8</td>\n",
              "      <td>196</td>\n",
              "      <td>200</td>\n",
              "    </tr>\n",
              "    <tr>\n",
              "      <th>2</th>\n",
              "      <td>214</td>\n",
              "      <td>89</td>\n",
              "      <td>36</td>\n",
              "      <td>72</td>\n",
              "      <td>141</td>\n",
              "      <td>56</td>\n",
              "      <td>7</td>\n",
              "      <td>138</td>\n",
              "      <td>48</td>\n",
              "      <td>18</td>\n",
              "      <td>126</td>\n",
              "      <td>163</td>\n",
              "      <td>286</td>\n",
              "      <td>130</td>\n",
              "      <td>72</td>\n",
              "      <td>1</td>\n",
              "      <td>1</td>\n",
              "      <td>187</td>\n",
              "      <td>192</td>\n",
              "    </tr>\n",
              "    <tr>\n",
              "      <th>3</th>\n",
              "      <td>505</td>\n",
              "      <td>115</td>\n",
              "      <td>53</td>\n",
              "      <td>100</td>\n",
              "      <td>205</td>\n",
              "      <td>64</td>\n",
              "      <td>11</td>\n",
              "      <td>220</td>\n",
              "      <td>30</td>\n",
              "      <td>25</td>\n",
              "      <td>166</td>\n",
              "      <td>229</td>\n",
              "      <td>710</td>\n",
              "      <td>214</td>\n",
              "      <td>71</td>\n",
              "      <td>21</td>\n",
              "      <td>11</td>\n",
              "      <td>189</td>\n",
              "      <td>199</td>\n",
              "    </tr>\n",
              "    <tr>\n",
              "      <th>4</th>\n",
              "      <td>198</td>\n",
              "      <td>81</td>\n",
              "      <td>46</td>\n",
              "      <td>71</td>\n",
              "      <td>130</td>\n",
              "      <td>56</td>\n",
              "      <td>7</td>\n",
              "      <td>153</td>\n",
              "      <td>44</td>\n",
              "      <td>19</td>\n",
              "      <td>149</td>\n",
              "      <td>172</td>\n",
              "      <td>342</td>\n",
              "      <td>191</td>\n",
              "      <td>81</td>\n",
              "      <td>3</td>\n",
              "      <td>14</td>\n",
              "      <td>180</td>\n",
              "      <td>186</td>\n",
              "    </tr>\n",
              "    <tr>\n",
              "      <th>5</th>\n",
              "      <td>93</td>\n",
              "      <td>94</td>\n",
              "      <td>48</td>\n",
              "      <td>87</td>\n",
              "      <td>162</td>\n",
              "      <td>64</td>\n",
              "      <td>10</td>\n",
              "      <td>157</td>\n",
              "      <td>43</td>\n",
              "      <td>20</td>\n",
              "      <td>161</td>\n",
              "      <td>179</td>\n",
              "      <td>363</td>\n",
              "      <td>186</td>\n",
              "      <td>75</td>\n",
              "      <td>4</td>\n",
              "      <td>15</td>\n",
              "      <td>184</td>\n",
              "      <td>195</td>\n",
              "    </tr>\n",
              "    <tr>\n",
              "      <th>6</th>\n",
              "      <td>577</td>\n",
              "      <td>99</td>\n",
              "      <td>54</td>\n",
              "      <td>100</td>\n",
              "      <td>199</td>\n",
              "      <td>62</td>\n",
              "      <td>9</td>\n",
              "      <td>200</td>\n",
              "      <td>33</td>\n",
              "      <td>23</td>\n",
              "      <td>166</td>\n",
              "      <td>222</td>\n",
              "      <td>600</td>\n",
              "      <td>241</td>\n",
              "      <td>70</td>\n",
              "      <td>2</td>\n",
              "      <td>7</td>\n",
              "      <td>189</td>\n",
              "      <td>198</td>\n",
              "    </tr>\n",
              "    <tr>\n",
              "      <th>7</th>\n",
              "      <td>323</td>\n",
              "      <td>98</td>\n",
              "      <td>51</td>\n",
              "      <td>96</td>\n",
              "      <td>203</td>\n",
              "      <td>66</td>\n",
              "      <td>10</td>\n",
              "      <td>188</td>\n",
              "      <td>35</td>\n",
              "      <td>22</td>\n",
              "      <td>157</td>\n",
              "      <td>207</td>\n",
              "      <td>533</td>\n",
              "      <td>231</td>\n",
              "      <td>68</td>\n",
              "      <td>10</td>\n",
              "      <td>1</td>\n",
              "      <td>191</td>\n",
              "      <td>199</td>\n",
              "    </tr>\n",
              "    <tr>\n",
              "      <th>8</th>\n",
              "      <td>89</td>\n",
              "      <td>80</td>\n",
              "      <td>37</td>\n",
              "      <td>57</td>\n",
              "      <td>116</td>\n",
              "      <td>55</td>\n",
              "      <td>6</td>\n",
              "      <td>125</td>\n",
              "      <td>54</td>\n",
              "      <td>18</td>\n",
              "      <td>125</td>\n",
              "      <td>142</td>\n",
              "      <td>229</td>\n",
              "      <td>132</td>\n",
              "      <td>81</td>\n",
              "      <td>8</td>\n",
              "      <td>5</td>\n",
              "      <td>178</td>\n",
              "      <td>184</td>\n",
              "    </tr>\n",
              "    <tr>\n",
              "      <th>9</th>\n",
              "      <td>321</td>\n",
              "      <td>113</td>\n",
              "      <td>57</td>\n",
              "      <td>109</td>\n",
              "      <td>194</td>\n",
              "      <td>56</td>\n",
              "      <td>6</td>\n",
              "      <td>260</td>\n",
              "      <td>26</td>\n",
              "      <td>28</td>\n",
              "      <td>175</td>\n",
              "      <td>288</td>\n",
              "      <td>982</td>\n",
              "      <td>261</td>\n",
              "      <td>85</td>\n",
              "      <td>11</td>\n",
              "      <td>21</td>\n",
              "      <td>182</td>\n",
              "      <td>183</td>\n",
              "    </tr>\n",
              "    <tr>\n",
              "      <th>10</th>\n",
              "      <td>66</td>\n",
              "      <td>81</td>\n",
              "      <td>43</td>\n",
              "      <td>68</td>\n",
              "      <td>125</td>\n",
              "      <td>57</td>\n",
              "      <td>8</td>\n",
              "      <td>149</td>\n",
              "      <td>46</td>\n",
              "      <td>19</td>\n",
              "      <td>146</td>\n",
              "      <td>169</td>\n",
              "      <td>323</td>\n",
              "      <td>172</td>\n",
              "      <td>83</td>\n",
              "      <td>6</td>\n",
              "      <td>18</td>\n",
              "      <td>179</td>\n",
              "      <td>184</td>\n",
              "    </tr>\n",
              "    <tr>\n",
              "      <th>11</th>\n",
              "      <td>692</td>\n",
              "      <td>108</td>\n",
              "      <td>51</td>\n",
              "      <td>100</td>\n",
              "      <td>206</td>\n",
              "      <td>63</td>\n",
              "      <td>10</td>\n",
              "      <td>196</td>\n",
              "      <td>34</td>\n",
              "      <td>23</td>\n",
              "      <td>159</td>\n",
              "      <td>214</td>\n",
              "      <td>576</td>\n",
              "      <td>201</td>\n",
              "      <td>65</td>\n",
              "      <td>7</td>\n",
              "      <td>16</td>\n",
              "      <td>194</td>\n",
              "      <td>205</td>\n",
              "    </tr>\n",
              "    <tr>\n",
              "      <th>12</th>\n",
              "      <td>166</td>\n",
              "      <td>92</td>\n",
              "      <td>36</td>\n",
              "      <td>78</td>\n",
              "      <td>165</td>\n",
              "      <td>57</td>\n",
              "      <td>8</td>\n",
              "      <td>153</td>\n",
              "      <td>43</td>\n",
              "      <td>19</td>\n",
              "      <td>128</td>\n",
              "      <td>169</td>\n",
              "      <td>349</td>\n",
              "      <td>124</td>\n",
              "      <td>60</td>\n",
              "      <td>4</td>\n",
              "      <td>19</td>\n",
              "      <td>203</td>\n",
              "      <td>211</td>\n",
              "    </tr>\n",
              "    <tr>\n",
              "      <th>13</th>\n",
              "      <td>211</td>\n",
              "      <td>86</td>\n",
              "      <td>37</td>\n",
              "      <td>69</td>\n",
              "      <td>150</td>\n",
              "      <td>63</td>\n",
              "      <td>8</td>\n",
              "      <td>138</td>\n",
              "      <td>48</td>\n",
              "      <td>18</td>\n",
              "      <td>134</td>\n",
              "      <td>163</td>\n",
              "      <td>284</td>\n",
              "      <td>124</td>\n",
              "      <td>71</td>\n",
              "      <td>1</td>\n",
              "      <td>6</td>\n",
              "      <td>189</td>\n",
              "      <td>195</td>\n",
              "    </tr>\n",
              "    <tr>\n",
              "      <th>14</th>\n",
              "      <td>555</td>\n",
              "      <td>87</td>\n",
              "      <td>49</td>\n",
              "      <td>86</td>\n",
              "      <td>190</td>\n",
              "      <td>64</td>\n",
              "      <td>9</td>\n",
              "      <td>177</td>\n",
              "      <td>37</td>\n",
              "      <td>21</td>\n",
              "      <td>153</td>\n",
              "      <td>197</td>\n",
              "      <td>471</td>\n",
              "      <td>209</td>\n",
              "      <td>67</td>\n",
              "      <td>11</td>\n",
              "      <td>7</td>\n",
              "      <td>192</td>\n",
              "      <td>199</td>\n",
              "    </tr>\n",
              "  </tbody>\n",
              "</table>\n",
              "</div>\n",
              "      <button class=\"colab-df-convert\" onclick=\"convertToInteractive('df-5d3c7155-0393-40e4-bccd-288959dbb5fe')\"\n",
              "              title=\"Convert this dataframe to an interactive table.\"\n",
              "              style=\"display:none;\">\n",
              "        \n",
              "  <svg xmlns=\"http://www.w3.org/2000/svg\" height=\"24px\"viewBox=\"0 0 24 24\"\n",
              "       width=\"24px\">\n",
              "    <path d=\"M0 0h24v24H0V0z\" fill=\"none\"/>\n",
              "    <path d=\"M18.56 5.44l.94 2.06.94-2.06 2.06-.94-2.06-.94-.94-2.06-.94 2.06-2.06.94zm-11 1L8.5 8.5l.94-2.06 2.06-.94-2.06-.94L8.5 2.5l-.94 2.06-2.06.94zm10 10l.94 2.06.94-2.06 2.06-.94-2.06-.94-.94-2.06-.94 2.06-2.06.94z\"/><path d=\"M17.41 7.96l-1.37-1.37c-.4-.4-.92-.59-1.43-.59-.52 0-1.04.2-1.43.59L10.3 9.45l-7.72 7.72c-.78.78-.78 2.05 0 2.83L4 21.41c.39.39.9.59 1.41.59.51 0 1.02-.2 1.41-.59l7.78-7.78 2.81-2.81c.8-.78.8-2.07 0-2.86zM5.41 20L4 18.59l7.72-7.72 1.47 1.35L5.41 20z\"/>\n",
              "  </svg>\n",
              "      </button>\n",
              "      \n",
              "  <style>\n",
              "    .colab-df-container {\n",
              "      display:flex;\n",
              "      flex-wrap:wrap;\n",
              "      gap: 12px;\n",
              "    }\n",
              "\n",
              "    .colab-df-convert {\n",
              "      background-color: #E8F0FE;\n",
              "      border: none;\n",
              "      border-radius: 50%;\n",
              "      cursor: pointer;\n",
              "      display: none;\n",
              "      fill: #1967D2;\n",
              "      height: 32px;\n",
              "      padding: 0 0 0 0;\n",
              "      width: 32px;\n",
              "    }\n",
              "\n",
              "    .colab-df-convert:hover {\n",
              "      background-color: #E2EBFA;\n",
              "      box-shadow: 0px 1px 2px rgba(60, 64, 67, 0.3), 0px 1px 3px 1px rgba(60, 64, 67, 0.15);\n",
              "      fill: #174EA6;\n",
              "    }\n",
              "\n",
              "    [theme=dark] .colab-df-convert {\n",
              "      background-color: #3B4455;\n",
              "      fill: #D2E3FC;\n",
              "    }\n",
              "\n",
              "    [theme=dark] .colab-df-convert:hover {\n",
              "      background-color: #434B5C;\n",
              "      box-shadow: 0px 1px 3px 1px rgba(0, 0, 0, 0.15);\n",
              "      filter: drop-shadow(0px 1px 2px rgba(0, 0, 0, 0.3));\n",
              "      fill: #FFFFFF;\n",
              "    }\n",
              "  </style>\n",
              "\n",
              "      <script>\n",
              "        const buttonEl =\n",
              "          document.querySelector('#df-5d3c7155-0393-40e4-bccd-288959dbb5fe button.colab-df-convert');\n",
              "        buttonEl.style.display =\n",
              "          google.colab.kernel.accessAllowed ? 'block' : 'none';\n",
              "\n",
              "        async function convertToInteractive(key) {\n",
              "          const element = document.querySelector('#df-5d3c7155-0393-40e4-bccd-288959dbb5fe');\n",
              "          const dataTable =\n",
              "            await google.colab.kernel.invokeFunction('convertToInteractive',\n",
              "                                                     [key], {});\n",
              "          if (!dataTable) return;\n",
              "\n",
              "          const docLinkHtml = 'Like what you see? Visit the ' +\n",
              "            '<a target=\"_blank\" href=https://colab.research.google.com/notebooks/data_table.ipynb>data table notebook</a>'\n",
              "            + ' to learn more about interactive tables.';\n",
              "          element.innerHTML = '';\n",
              "          dataTable['output_type'] = 'display_data';\n",
              "          await google.colab.output.renderOutput(dataTable, element);\n",
              "          const docLink = document.createElement('div');\n",
              "          docLink.innerHTML = docLinkHtml;\n",
              "          element.appendChild(docLink);\n",
              "        }\n",
              "      </script>\n",
              "    </div>\n",
              "  </div>\n",
              "  "
            ]
          },
          "metadata": {},
          "execution_count": 6
        }
      ],
      "source": [
        "X_train_pd = pd.DataFrame(X_train)\n",
        "\n",
        "# First 15 rows of our dataset.\n",
        "X_train_pd.head(15)"
      ]
    },
    {
      "cell_type": "markdown",
      "metadata": {
        "nbgrader": {
          "grade": false,
          "grade_id": "cell-98e7d91d77d65fcf",
          "locked": true,
          "schema_version": 2,
          "solution": false
        },
        "id": "HJRp3eeeBoVG"
      },
      "source": [
        "Methods `describe` and `info` deliver some useful information."
      ]
    },
    {
      "cell_type": "code",
      "execution_count": null,
      "metadata": {
        "id": "D2i-5IAmBoVG",
        "outputId": "ab8a01f1-81e3-4422-8d7f-b9cfbb9c5577",
        "colab": {
          "base_uri": "https://localhost:8080/",
          "height": 364
        }
      },
      "outputs": [
        {
          "output_type": "execute_result",
          "data": {
            "text/plain": [
              "               0           1           2           3           4           5   \\\n",
              "count  549.000000  549.000000  549.000000  549.000000  549.000000  549.000000   \n",
              "mean   427.746812   93.331512   44.659381   81.845173  167.854281   61.581056   \n",
              "std    242.781028    8.095198    6.009922   15.495575   33.801221    8.397041   \n",
              "min      0.000000   77.000000   33.000000   42.000000  104.000000   47.000000   \n",
              "25%    227.000000   87.000000   40.000000   70.000000  140.000000   57.000000   \n",
              "50%    427.000000   92.000000   44.000000   79.000000  166.000000   61.000000   \n",
              "75%    637.000000   99.000000   49.000000   96.000000  193.000000   65.000000   \n",
              "max    845.000000  117.000000   59.000000  112.000000  333.000000  138.000000   \n",
              "\n",
              "               6           7           8           9           10          11  \\\n",
              "count  549.000000  549.000000  549.000000  549.000000  549.000000  549.000000   \n",
              "mean     8.562842  167.874317   41.089253   20.493625  147.479053  188.080146   \n",
              "std      4.675820   32.419815    7.605058    2.530553   14.121540   31.108430   \n",
              "min      2.000000  114.000000   26.000000   17.000000  118.000000  131.000000   \n",
              "25%      7.000000  147.000000   34.000000   19.000000  137.000000  168.000000   \n",
              "50%      8.000000  156.000000   43.000000   19.000000  145.000000  177.000000   \n",
              "75%     10.000000  196.000000   46.000000   23.000000  158.000000  216.000000   \n",
              "max     55.000000  265.000000   59.000000   29.000000  188.000000  320.000000   \n",
              "\n",
              "                12          13          14          15          16  \\\n",
              "count   549.000000  549.000000  549.000000  549.000000  549.000000   \n",
              "mean    434.342441  174.233151   72.639344    6.355191   12.659381   \n",
              "std     172.486367   32.338373    7.680503    4.744905    9.006415   \n",
              "min     191.000000  109.000000   59.000000    0.000000    0.000000   \n",
              "25%     320.000000  150.000000   68.000000    3.000000    5.000000   \n",
              "50%     361.000000  173.000000   72.000000    6.000000   11.000000   \n",
              "75%     576.000000  197.000000   75.000000    9.000000   19.000000   \n",
              "max    1018.000000  262.000000  135.000000   22.000000   41.000000   \n",
              "\n",
              "               17          18  \n",
              "count  549.000000  549.000000  \n",
              "mean   188.816029  195.535519  \n",
              "std      6.188407    7.468982  \n",
              "min    176.000000  181.000000  \n",
              "25%    184.000000  191.000000  \n",
              "50%    188.000000  197.000000  \n",
              "75%    193.000000  201.000000  \n",
              "max    206.000000  211.000000  "
            ],
            "text/html": [
              "\n",
              "  <div id=\"df-d1edd1c9-5716-4846-b40d-01966019badb\">\n",
              "    <div class=\"colab-df-container\">\n",
              "      <div>\n",
              "<style scoped>\n",
              "    .dataframe tbody tr th:only-of-type {\n",
              "        vertical-align: middle;\n",
              "    }\n",
              "\n",
              "    .dataframe tbody tr th {\n",
              "        vertical-align: top;\n",
              "    }\n",
              "\n",
              "    .dataframe thead th {\n",
              "        text-align: right;\n",
              "    }\n",
              "</style>\n",
              "<table border=\"1\" class=\"dataframe\">\n",
              "  <thead>\n",
              "    <tr style=\"text-align: right;\">\n",
              "      <th></th>\n",
              "      <th>0</th>\n",
              "      <th>1</th>\n",
              "      <th>2</th>\n",
              "      <th>3</th>\n",
              "      <th>4</th>\n",
              "      <th>5</th>\n",
              "      <th>6</th>\n",
              "      <th>7</th>\n",
              "      <th>8</th>\n",
              "      <th>9</th>\n",
              "      <th>10</th>\n",
              "      <th>11</th>\n",
              "      <th>12</th>\n",
              "      <th>13</th>\n",
              "      <th>14</th>\n",
              "      <th>15</th>\n",
              "      <th>16</th>\n",
              "      <th>17</th>\n",
              "      <th>18</th>\n",
              "    </tr>\n",
              "  </thead>\n",
              "  <tbody>\n",
              "    <tr>\n",
              "      <th>count</th>\n",
              "      <td>549.000000</td>\n",
              "      <td>549.000000</td>\n",
              "      <td>549.000000</td>\n",
              "      <td>549.000000</td>\n",
              "      <td>549.000000</td>\n",
              "      <td>549.000000</td>\n",
              "      <td>549.000000</td>\n",
              "      <td>549.000000</td>\n",
              "      <td>549.000000</td>\n",
              "      <td>549.000000</td>\n",
              "      <td>549.000000</td>\n",
              "      <td>549.000000</td>\n",
              "      <td>549.000000</td>\n",
              "      <td>549.000000</td>\n",
              "      <td>549.000000</td>\n",
              "      <td>549.000000</td>\n",
              "      <td>549.000000</td>\n",
              "      <td>549.000000</td>\n",
              "      <td>549.000000</td>\n",
              "    </tr>\n",
              "    <tr>\n",
              "      <th>mean</th>\n",
              "      <td>427.746812</td>\n",
              "      <td>93.331512</td>\n",
              "      <td>44.659381</td>\n",
              "      <td>81.845173</td>\n",
              "      <td>167.854281</td>\n",
              "      <td>61.581056</td>\n",
              "      <td>8.562842</td>\n",
              "      <td>167.874317</td>\n",
              "      <td>41.089253</td>\n",
              "      <td>20.493625</td>\n",
              "      <td>147.479053</td>\n",
              "      <td>188.080146</td>\n",
              "      <td>434.342441</td>\n",
              "      <td>174.233151</td>\n",
              "      <td>72.639344</td>\n",
              "      <td>6.355191</td>\n",
              "      <td>12.659381</td>\n",
              "      <td>188.816029</td>\n",
              "      <td>195.535519</td>\n",
              "    </tr>\n",
              "    <tr>\n",
              "      <th>std</th>\n",
              "      <td>242.781028</td>\n",
              "      <td>8.095198</td>\n",
              "      <td>6.009922</td>\n",
              "      <td>15.495575</td>\n",
              "      <td>33.801221</td>\n",
              "      <td>8.397041</td>\n",
              "      <td>4.675820</td>\n",
              "      <td>32.419815</td>\n",
              "      <td>7.605058</td>\n",
              "      <td>2.530553</td>\n",
              "      <td>14.121540</td>\n",
              "      <td>31.108430</td>\n",
              "      <td>172.486367</td>\n",
              "      <td>32.338373</td>\n",
              "      <td>7.680503</td>\n",
              "      <td>4.744905</td>\n",
              "      <td>9.006415</td>\n",
              "      <td>6.188407</td>\n",
              "      <td>7.468982</td>\n",
              "    </tr>\n",
              "    <tr>\n",
              "      <th>min</th>\n",
              "      <td>0.000000</td>\n",
              "      <td>77.000000</td>\n",
              "      <td>33.000000</td>\n",
              "      <td>42.000000</td>\n",
              "      <td>104.000000</td>\n",
              "      <td>47.000000</td>\n",
              "      <td>2.000000</td>\n",
              "      <td>114.000000</td>\n",
              "      <td>26.000000</td>\n",
              "      <td>17.000000</td>\n",
              "      <td>118.000000</td>\n",
              "      <td>131.000000</td>\n",
              "      <td>191.000000</td>\n",
              "      <td>109.000000</td>\n",
              "      <td>59.000000</td>\n",
              "      <td>0.000000</td>\n",
              "      <td>0.000000</td>\n",
              "      <td>176.000000</td>\n",
              "      <td>181.000000</td>\n",
              "    </tr>\n",
              "    <tr>\n",
              "      <th>25%</th>\n",
              "      <td>227.000000</td>\n",
              "      <td>87.000000</td>\n",
              "      <td>40.000000</td>\n",
              "      <td>70.000000</td>\n",
              "      <td>140.000000</td>\n",
              "      <td>57.000000</td>\n",
              "      <td>7.000000</td>\n",
              "      <td>147.000000</td>\n",
              "      <td>34.000000</td>\n",
              "      <td>19.000000</td>\n",
              "      <td>137.000000</td>\n",
              "      <td>168.000000</td>\n",
              "      <td>320.000000</td>\n",
              "      <td>150.000000</td>\n",
              "      <td>68.000000</td>\n",
              "      <td>3.000000</td>\n",
              "      <td>5.000000</td>\n",
              "      <td>184.000000</td>\n",
              "      <td>191.000000</td>\n",
              "    </tr>\n",
              "    <tr>\n",
              "      <th>50%</th>\n",
              "      <td>427.000000</td>\n",
              "      <td>92.000000</td>\n",
              "      <td>44.000000</td>\n",
              "      <td>79.000000</td>\n",
              "      <td>166.000000</td>\n",
              "      <td>61.000000</td>\n",
              "      <td>8.000000</td>\n",
              "      <td>156.000000</td>\n",
              "      <td>43.000000</td>\n",
              "      <td>19.000000</td>\n",
              "      <td>145.000000</td>\n",
              "      <td>177.000000</td>\n",
              "      <td>361.000000</td>\n",
              "      <td>173.000000</td>\n",
              "      <td>72.000000</td>\n",
              "      <td>6.000000</td>\n",
              "      <td>11.000000</td>\n",
              "      <td>188.000000</td>\n",
              "      <td>197.000000</td>\n",
              "    </tr>\n",
              "    <tr>\n",
              "      <th>75%</th>\n",
              "      <td>637.000000</td>\n",
              "      <td>99.000000</td>\n",
              "      <td>49.000000</td>\n",
              "      <td>96.000000</td>\n",
              "      <td>193.000000</td>\n",
              "      <td>65.000000</td>\n",
              "      <td>10.000000</td>\n",
              "      <td>196.000000</td>\n",
              "      <td>46.000000</td>\n",
              "      <td>23.000000</td>\n",
              "      <td>158.000000</td>\n",
              "      <td>216.000000</td>\n",
              "      <td>576.000000</td>\n",
              "      <td>197.000000</td>\n",
              "      <td>75.000000</td>\n",
              "      <td>9.000000</td>\n",
              "      <td>19.000000</td>\n",
              "      <td>193.000000</td>\n",
              "      <td>201.000000</td>\n",
              "    </tr>\n",
              "    <tr>\n",
              "      <th>max</th>\n",
              "      <td>845.000000</td>\n",
              "      <td>117.000000</td>\n",
              "      <td>59.000000</td>\n",
              "      <td>112.000000</td>\n",
              "      <td>333.000000</td>\n",
              "      <td>138.000000</td>\n",
              "      <td>55.000000</td>\n",
              "      <td>265.000000</td>\n",
              "      <td>59.000000</td>\n",
              "      <td>29.000000</td>\n",
              "      <td>188.000000</td>\n",
              "      <td>320.000000</td>\n",
              "      <td>1018.000000</td>\n",
              "      <td>262.000000</td>\n",
              "      <td>135.000000</td>\n",
              "      <td>22.000000</td>\n",
              "      <td>41.000000</td>\n",
              "      <td>206.000000</td>\n",
              "      <td>211.000000</td>\n",
              "    </tr>\n",
              "  </tbody>\n",
              "</table>\n",
              "</div>\n",
              "      <button class=\"colab-df-convert\" onclick=\"convertToInteractive('df-d1edd1c9-5716-4846-b40d-01966019badb')\"\n",
              "              title=\"Convert this dataframe to an interactive table.\"\n",
              "              style=\"display:none;\">\n",
              "        \n",
              "  <svg xmlns=\"http://www.w3.org/2000/svg\" height=\"24px\"viewBox=\"0 0 24 24\"\n",
              "       width=\"24px\">\n",
              "    <path d=\"M0 0h24v24H0V0z\" fill=\"none\"/>\n",
              "    <path d=\"M18.56 5.44l.94 2.06.94-2.06 2.06-.94-2.06-.94-.94-2.06-.94 2.06-2.06.94zm-11 1L8.5 8.5l.94-2.06 2.06-.94-2.06-.94L8.5 2.5l-.94 2.06-2.06.94zm10 10l.94 2.06.94-2.06 2.06-.94-2.06-.94-.94-2.06-.94 2.06-2.06.94z\"/><path d=\"M17.41 7.96l-1.37-1.37c-.4-.4-.92-.59-1.43-.59-.52 0-1.04.2-1.43.59L10.3 9.45l-7.72 7.72c-.78.78-.78 2.05 0 2.83L4 21.41c.39.39.9.59 1.41.59.51 0 1.02-.2 1.41-.59l7.78-7.78 2.81-2.81c.8-.78.8-2.07 0-2.86zM5.41 20L4 18.59l7.72-7.72 1.47 1.35L5.41 20z\"/>\n",
              "  </svg>\n",
              "      </button>\n",
              "      \n",
              "  <style>\n",
              "    .colab-df-container {\n",
              "      display:flex;\n",
              "      flex-wrap:wrap;\n",
              "      gap: 12px;\n",
              "    }\n",
              "\n",
              "    .colab-df-convert {\n",
              "      background-color: #E8F0FE;\n",
              "      border: none;\n",
              "      border-radius: 50%;\n",
              "      cursor: pointer;\n",
              "      display: none;\n",
              "      fill: #1967D2;\n",
              "      height: 32px;\n",
              "      padding: 0 0 0 0;\n",
              "      width: 32px;\n",
              "    }\n",
              "\n",
              "    .colab-df-convert:hover {\n",
              "      background-color: #E2EBFA;\n",
              "      box-shadow: 0px 1px 2px rgba(60, 64, 67, 0.3), 0px 1px 3px 1px rgba(60, 64, 67, 0.15);\n",
              "      fill: #174EA6;\n",
              "    }\n",
              "\n",
              "    [theme=dark] .colab-df-convert {\n",
              "      background-color: #3B4455;\n",
              "      fill: #D2E3FC;\n",
              "    }\n",
              "\n",
              "    [theme=dark] .colab-df-convert:hover {\n",
              "      background-color: #434B5C;\n",
              "      box-shadow: 0px 1px 3px 1px rgba(0, 0, 0, 0.15);\n",
              "      filter: drop-shadow(0px 1px 2px rgba(0, 0, 0, 0.3));\n",
              "      fill: #FFFFFF;\n",
              "    }\n",
              "  </style>\n",
              "\n",
              "      <script>\n",
              "        const buttonEl =\n",
              "          document.querySelector('#df-d1edd1c9-5716-4846-b40d-01966019badb button.colab-df-convert');\n",
              "        buttonEl.style.display =\n",
              "          google.colab.kernel.accessAllowed ? 'block' : 'none';\n",
              "\n",
              "        async function convertToInteractive(key) {\n",
              "          const element = document.querySelector('#df-d1edd1c9-5716-4846-b40d-01966019badb');\n",
              "          const dataTable =\n",
              "            await google.colab.kernel.invokeFunction('convertToInteractive',\n",
              "                                                     [key], {});\n",
              "          if (!dataTable) return;\n",
              "\n",
              "          const docLinkHtml = 'Like what you see? Visit the ' +\n",
              "            '<a target=\"_blank\" href=https://colab.research.google.com/notebooks/data_table.ipynb>data table notebook</a>'\n",
              "            + ' to learn more about interactive tables.';\n",
              "          element.innerHTML = '';\n",
              "          dataTable['output_type'] = 'display_data';\n",
              "          await google.colab.output.renderOutput(dataTable, element);\n",
              "          const docLink = document.createElement('div');\n",
              "          docLink.innerHTML = docLinkHtml;\n",
              "          element.appendChild(docLink);\n",
              "        }\n",
              "      </script>\n",
              "    </div>\n",
              "  </div>\n",
              "  "
            ]
          },
          "metadata": {},
          "execution_count": 7
        }
      ],
      "source": [
        "X_train_pd.describe()"
      ]
    },
    {
      "cell_type": "code",
      "execution_count": null,
      "metadata": {
        "id": "GEskQmg9BoVG",
        "outputId": "addc8854-efd8-4f75-916e-8db318095880",
        "colab": {
          "base_uri": "https://localhost:8080/"
        }
      },
      "outputs": [
        {
          "output_type": "stream",
          "name": "stdout",
          "text": [
            "<class 'pandas.core.frame.DataFrame'>\n",
            "RangeIndex: 549 entries, 0 to 548\n",
            "Data columns (total 19 columns):\n",
            " #   Column  Non-Null Count  Dtype\n",
            "---  ------  --------------  -----\n",
            " 0   0       549 non-null    int64\n",
            " 1   1       549 non-null    int64\n",
            " 2   2       549 non-null    int64\n",
            " 3   3       549 non-null    int64\n",
            " 4   4       549 non-null    int64\n",
            " 5   5       549 non-null    int64\n",
            " 6   6       549 non-null    int64\n",
            " 7   7       549 non-null    int64\n",
            " 8   8       549 non-null    int64\n",
            " 9   9       549 non-null    int64\n",
            " 10  10      549 non-null    int64\n",
            " 11  11      549 non-null    int64\n",
            " 12  12      549 non-null    int64\n",
            " 13  13      549 non-null    int64\n",
            " 14  14      549 non-null    int64\n",
            " 15  15      549 non-null    int64\n",
            " 16  16      549 non-null    int64\n",
            " 17  17      549 non-null    int64\n",
            " 18  18      549 non-null    int64\n",
            "dtypes: int64(19)\n",
            "memory usage: 81.6 KB\n"
          ]
        }
      ],
      "source": [
        "X_train_pd.info()"
      ]
    },
    {
      "cell_type": "markdown",
      "metadata": {
        "nbgrader": {
          "grade": false,
          "grade_id": "cell-be844269be69c387",
          "locked": true,
          "schema_version": 2,
          "solution": false
        },
        "id": "p0QfoDKTBoVH"
      },
      "source": [
        "### 2. Machine Learning pipeline\n",
        "Here you are supposed to perform the desired transformations. Please, explain your results briefly after each task."
      ]
    },
    {
      "cell_type": "markdown",
      "metadata": {
        "id": "O6muhs75BoVH"
      },
      "source": [
        "#### 2.0. Data preprocessing\n",
        "* Make some transformations of the dataset (if necessary). Briefly explain the transformations"
      ]
    },
    {
      "cell_type": "code",
      "execution_count": 105,
      "metadata": {
        "nbgrader": {
          "grade": true,
          "grade_id": "cell-a1514aa189a49fca",
          "locked": false,
          "points": 15,
          "schema_version": 2,
          "solution": true
        },
        "id": "wyRkg9bdBoVH"
      },
      "outputs": [],
      "source": [
        "# сделаем стандартизацию оставив нулевые данные - она нужна для PCA и логрега\n",
        "import pandas as pd\n",
        "from sklearn import preprocessing\n",
        "\n",
        "min_max_scaler = preprocessing.MinMaxScaler()\n",
        "X_test_pd = pd.DataFrame(X_test)\n",
        "x_scaled = min_max_scaler.fit_transform(X_train_pd)\n",
        "X_train_pd_scaled = pd.DataFrame(x_scaled)\n",
        "X_test_pd_scaled = pd.DataFrame(min_max_scaler.transform(X_test_pd))"
      ]
    },
    {
      "cell_type": "markdown",
      "metadata": {
        "id": "tjANKjmmBoVH"
      },
      "source": [
        "#### 2.1. Basic logistic regression\n",
        "* Find optimal hyperparameters for logistic regression with cross-validation on the `train` data (small grid/random search is enough, no need to find the *best* parameters).\n",
        "\n",
        "* Estimate the model quality with `f1` and `accuracy` scores.\n",
        "* Plot a ROC-curve for the trained model. For the multiclass case you might use `scikitplot` library (e.g. `scikitplot.metrics.plot_roc(test_labels, predicted_proba)`).\n",
        "\n",
        "*Note: please, use the following hyperparameters for logistic regression: `multi_class='multinomial'`, `solver='saga'` `tol=1e-3` and ` max_iter=500`.*"
      ]
    },
    {
      "cell_type": "code",
      "execution_count": 106,
      "metadata": {
        "nbgrader": {
          "grade": true,
          "grade_id": "cell-1dd5ad5d0845cbbb",
          "locked": false,
          "points": 5,
          "schema_version": 2,
          "solution": true
        },
        "id": "FN5Htkk9BoVH"
      },
      "outputs": [],
      "source": [
        "### YOUR CODE HERE\n",
        "from sklearn.linear_model import LogisticRegression\n",
        "from sklearn.metrics import accuracy_score, f1_score\n",
        "from sklearn.model_selection import ShuffleSplit\n",
        "from sklearn.model_selection import cross_val_score\n",
        "\n",
        "cv = ShuffleSplit(n_splits=5, test_size=0.3, random_state=0)"
      ]
    },
    {
      "cell_type": "code",
      "source": [
        "# Проведем подбор гиперпараметров с помощью кросс-валидации\n",
        "\n",
        "for i in [0.5,1,1.5,2,2.5,3,3.5,6]:\n",
        "\n",
        "    log_reg = LogisticRegression(multi_class='multinomial', solver='saga', tol=1e-3, max_iter=500, C = i)\n",
        "    \n",
        "    print(f'For regularization coef {i} score = {np.mean(cross_val_score(log_reg, X_train_pd_scaled, y_train, cv=cv, scoring=\"f1_macro\"))}')"
      ],
      "metadata": {
        "colab": {
          "base_uri": "https://localhost:8080/"
        },
        "id": "pFvW6vsIK5X0",
        "outputId": "43ead187-a29a-472a-97b6-90a77e029635"
      },
      "execution_count": 107,
      "outputs": [
        {
          "output_type": "stream",
          "name": "stdout",
          "text": [
            "For regularization coef 0.5 score = 0.6211104672579336\n",
            "For regularization coef 1 score = 0.6603961004011595\n",
            "For regularization coef 1.5 score = 0.686235182257213\n",
            "For regularization coef 2 score = 0.7000481701365171\n",
            "For regularization coef 2.5 score = 0.706268980511796\n",
            "For regularization coef 3 score = 0.7087937032954252\n",
            "For regularization coef 3.5 score = 0.7081515452011493\n",
            "For regularization coef 6 score = 0.7158559335407364\n"
          ]
        }
      ]
    },
    {
      "cell_type": "code",
      "source": [
        "log_reg = LogisticRegression(multi_class='multinomial', solver='saga', tol=1e-3, max_iter=500, C = 6)\n",
        "log_reg.fit(X_train_pd_scaled,y_train)\n",
        "\n",
        "y_pred = log_reg.predict(X_test_pd_scaled)\n",
        "y_pred_proba = log_reg.predict_proba(X_test_pd_scaled)"
      ],
      "metadata": {
        "id": "xybufQfVNT74"
      },
      "execution_count": 108,
      "outputs": []
    },
    {
      "cell_type": "code",
      "source": [
        "print('accuracy_score: ',accuracy_score(y_test, y_pred))\n",
        "print('f1_score: ',f1_score(y_test, y_pred, average='weighted'))\n"
      ],
      "metadata": {
        "colab": {
          "base_uri": "https://localhost:8080/"
        },
        "id": "BnMogFnrNrt3",
        "outputId": "207360c3-317c-4bb7-83b0-eef57821658e"
      },
      "execution_count": 109,
      "outputs": [
        {
          "output_type": "stream",
          "name": "stdout",
          "text": [
            "accuracy_score:  0.7003367003367004\n",
            "f1_score:  0.6820916183929882\n"
          ]
        }
      ]
    },
    {
      "cell_type": "code",
      "execution_count": 110,
      "metadata": {
        "id": "22HNk594BoVI",
        "colab": {
          "base_uri": "https://localhost:8080/"
        },
        "outputId": "3de8559f-0314-4662-cf20-2a39d78a8b02"
      },
      "outputs": [
        {
          "output_type": "stream",
          "name": "stdout",
          "text": [
            "Looking in indexes: https://pypi.org/simple, https://us-python.pkg.dev/colab-wheels/public/simple/\n",
            "Requirement already satisfied: scikit-plot in /usr/local/lib/python3.8/dist-packages (0.3.7)\n",
            "Requirement already satisfied: matplotlib>=1.4.0 in /usr/local/lib/python3.8/dist-packages (from scikit-plot) (3.2.2)\n",
            "Requirement already satisfied: scikit-learn>=0.18 in /usr/local/lib/python3.8/dist-packages (from scikit-plot) (1.0.2)\n",
            "Requirement already satisfied: joblib>=0.10 in /usr/local/lib/python3.8/dist-packages (from scikit-plot) (1.2.0)\n",
            "Requirement already satisfied: scipy>=0.9 in /usr/local/lib/python3.8/dist-packages (from scikit-plot) (1.7.3)\n",
            "Requirement already satisfied: numpy>=1.11 in /usr/local/lib/python3.8/dist-packages (from matplotlib>=1.4.0->scikit-plot) (1.21.6)\n",
            "Requirement already satisfied: pyparsing!=2.0.4,!=2.1.2,!=2.1.6,>=2.0.1 in /usr/local/lib/python3.8/dist-packages (from matplotlib>=1.4.0->scikit-plot) (3.0.9)\n",
            "Requirement already satisfied: python-dateutil>=2.1 in /usr/local/lib/python3.8/dist-packages (from matplotlib>=1.4.0->scikit-plot) (2.8.2)\n",
            "Requirement already satisfied: kiwisolver>=1.0.1 in /usr/local/lib/python3.8/dist-packages (from matplotlib>=1.4.0->scikit-plot) (1.4.4)\n",
            "Requirement already satisfied: cycler>=0.10 in /usr/local/lib/python3.8/dist-packages (from matplotlib>=1.4.0->scikit-plot) (0.11.0)\n",
            "Requirement already satisfied: threadpoolctl>=2.0.0 in /usr/local/lib/python3.8/dist-packages (from scikit-learn>=0.18->scikit-plot) (3.1.0)\n",
            "Requirement already satisfied: six>=1.5 in /usr/local/lib/python3.8/dist-packages (from python-dateutil>=2.1->matplotlib>=1.4.0->scikit-plot) (1.15.0)\n"
          ]
        }
      ],
      "source": [
        "# You might use this command to install scikit-plot. \n",
        "# Warning, if you a running locally, don't call pip from within jupyter, call it from terminal in the corresponding \n",
        "# virtual environment instead\n",
        "\n",
        "! pip install scikit-plot"
      ]
    },
    {
      "cell_type": "code",
      "source": [
        "from scikitplot.metrics import plot_roc\n",
        "plot_roc(y_test, y_pred_proba)"
      ],
      "metadata": {
        "colab": {
          "base_uri": "https://localhost:8080/",
          "height": 312
        },
        "id": "QQP8HV13Q_Pk",
        "outputId": "c2ce9bb8-50ba-4b1a-dfde-93faabe64296"
      },
      "execution_count": 111,
      "outputs": [
        {
          "output_type": "execute_result",
          "data": {
            "text/plain": [
              "<matplotlib.axes._subplots.AxesSubplot at 0x7fc272544d90>"
            ]
          },
          "metadata": {},
          "execution_count": 111
        },
        {
          "output_type": "display_data",
          "data": {
            "text/plain": [
              "<Figure size 432x288 with 1 Axes>"
            ],
            "image/png": "[encoded data removed]"
          },
          "metadata": {
            "needs_background": "light"
          }
        }
      ]
    },
    {
      "cell_type": "markdown",
      "metadata": {
        "id": "vKHQO47RBoVI"
      },
      "source": [
        "#### 2.2. PCA: explained variance plot\n",
        "* Apply the PCA to the train part of the data. Build the explaided variance plot. "
      ]
    },
    {
      "cell_type": "code",
      "execution_count": null,
      "metadata": {
        "nbgrader": {
          "grade": true,
          "grade_id": "cell-c6c614740bce090e",
          "locked": false,
          "points": 10,
          "schema_version": 2,
          "solution": true
        },
        "id": "exOaF331BoVI"
      },
      "outputs": [],
      "source": [
        "### YOUR CODE HERE"
      ]
    },
    {
      "cell_type": "code",
      "source": [
        "import seaborn as sns\n",
        "import matplotlib.pyplot as plt\n",
        "import numpy as np\n",
        "import pandas as pd\n",
        "from sklearn.decomposition import PCA"
      ],
      "metadata": {
        "id": "g5jXaKz8RllV"
      },
      "execution_count": 112,
      "outputs": []
    },
    {
      "cell_type": "code",
      "source": [
        "pca = PCA()\n",
        "pca.fit(X_train_pd_scaled)\n",
        "exp_D_cum = np.cumsum(pca.explained_variance_ratio_)\n",
        "\n",
        "\n",
        "sns.lineplot(x=range(1, exp_D_cum.shape[0] + 1), y=exp_D_cum)\n",
        "plt.show()"
      ],
      "metadata": {
        "colab": {
          "base_uri": "https://localhost:8080/",
          "height": 265
        },
        "id": "9hTfN27aRx_x",
        "outputId": "1fc082d0-ee22-4d89-e12e-40575a1836e3"
      },
      "execution_count": 113,
      "outputs": [
        {
          "output_type": "display_data",
          "data": {
            "text/plain": [
              "<Figure size 432x288 with 1 Axes>"
            ],
            "image/png": "[encoded data removed]"
          },
          "metadata": {
            "needs_background": "light"
          }
        }
      ]
    },
    {
      "cell_type": "markdown",
      "metadata": {
        "nbgrader": {
          "grade": false,
          "grade_id": "cell-0c1fe666f52fe53c",
          "locked": true,
          "schema_version": 2,
          "solution": false
        },
        "id": "RJNYxfX8BoVI"
      },
      "source": [
        "#### 2.3. PCA trasformation\n",
        "* Select the appropriate number of components. Briefly explain your choice. Should you normalize the data?\n",
        "\n",
        "*Use `fit` and `transform` methods to transform the `train` and `test` parts.*"
      ]
    },
    {
      "cell_type": "code",
      "execution_count": 114,
      "metadata": {
        "nbgrader": {
          "grade": true,
          "grade_id": "cell-96ab18d96473ef71",
          "locked": false,
          "points": 5,
          "schema_version": 2,
          "solution": true
        },
        "id": "Kq3kSpFQBoVI"
      },
      "outputs": [],
      "source": [
        "### YOUR CODE HERE\n",
        "# Возьмем 12 компонент, так как explained_variance уже достаточно велико\n",
        "# нормализация нужна, т.к. величиная дисперсии влияет на \"главность\" компонент\n",
        "\n",
        "pca = PCA(n_components = 12)\n",
        "X_train_pca = pca.fit_transform(X_train_pd_scaled)\n",
        "X_test_pca = pca.transform(X_test_pd_scaled)"
      ]
    },
    {
      "cell_type": "markdown",
      "metadata": {
        "id": "CNy20pBjBoVJ"
      },
      "source": [
        "**Note: From this point `sklearn` [Pipeline](https://scikit-learn.org/stable/modules/compose.html) might be useful to perform transformations on the data. Refer to the [docs](https://scikit-learn.org/stable/modules/generated/sklearn.pipeline.Pipeline.html) for more information.**"
      ]
    },
    {
      "cell_type": "markdown",
      "metadata": {
        "nbgrader": {
          "grade": false,
          "grade_id": "cell-d28b58a35c94e988",
          "locked": true,
          "schema_version": 2,
          "solution": false
        },
        "id": "eHhyzjQgBoVJ"
      },
      "source": [
        "#### 2.4. Logistic regression on PCA-preprocessed data.\n",
        "* Find optimal hyperparameters for logistic regression with cross-validation on the transformed by PCA `train` data.\n",
        "\n",
        "* Estimate the model quality with `f1` and `accuracy` scores.\n",
        "* Plot a ROC-curve for the trained model. For the multiclass case you might use `scikitplot` library (e.g. `scikitplot.metrics.plot_roc(test_labels, predicted_proba)`).\n",
        "\n",
        "*Note: please, use the following hyperparameters for logistic regression: `multi_class='multinomial'`, `solver='saga'` and `tol=1e-3`*"
      ]
    },
    {
      "cell_type": "code",
      "execution_count": 115,
      "metadata": {
        "nbgrader": {
          "grade": true,
          "grade_id": "cell-12d53ea45258fa82",
          "locked": false,
          "points": 5,
          "schema_version": 2,
          "solution": true
        },
        "id": "cHgi1DuzBoVJ",
        "colab": {
          "base_uri": "https://localhost:8080/"
        },
        "outputId": "6419ff8d-9882-4b7b-be65-1d7d006c05bf"
      },
      "outputs": [
        {
          "output_type": "stream",
          "name": "stdout",
          "text": [
            "For regularization coef 0.5 score = 0.6139604775119574\n",
            "For regularization coef 1 score = 0.6519725793421832\n",
            "For regularization coef 1.5 score = 0.669685425353536\n",
            "For regularization coef 2 score = 0.6842972883775735\n",
            "For regularization coef 2.5 score = 0.6880375208363505\n",
            "For regularization coef 3 score = 0.6920880804613155\n",
            "For regularization coef 3.5 score = 0.6960521166008536\n",
            "For regularization coef 6 score = 0.7032901271487043\n"
          ]
        }
      ],
      "source": [
        "### YOUR CODE HERE\n",
        "cv = ShuffleSplit(n_splits=5, test_size=0.3, random_state=0)\n",
        "\n",
        "# Проведем подбор гиперпараметров с помощью крос валидации\n",
        "\n",
        "for i in [0.5,1,1.5,2,2.5,3,3.5,6]:\n",
        "\n",
        "    log_reg_pca = LogisticRegression(multi_class='multinomial', solver='saga', tol=1e-3, max_iter=500, C = i)\n",
        "    \n",
        "    print(f'For regularization coef {i} score = {np.mean(cross_val_score(log_reg_pca, X_train_pca, y_train, cv=cv, scoring=\"f1_macro\"))}')"
      ]
    },
    {
      "cell_type": "code",
      "source": [
        "log_reg_pca = LogisticRegression(multi_class='multinomial', solver='saga', tol=1e-3, max_iter=500, C = 6)\n",
        "log_reg_pca.fit(X_train_pca,y_train)\n",
        "\n",
        "y_pred_pca = log_reg_pca.predict(X_test_pca)\n",
        "y_pred_proba_pca = log_reg_pca.predict_proba(X_test_pca)"
      ],
      "metadata": {
        "id": "Q1vX3M1wWQ6F"
      },
      "execution_count": 116,
      "outputs": []
    },
    {
      "cell_type": "code",
      "source": [
        "print('accuracy_score: ',accuracy_score(y_test, y_pred_pca))\n",
        "print('f1_score: ',f1_score(y_test, y_pred_pca, average='weighted'))"
      ],
      "metadata": {
        "colab": {
          "base_uri": "https://localhost:8080/"
        },
        "id": "MuMChLMnWhba",
        "outputId": "caa0d0c8-d863-400d-a6c6-f73131316cbd"
      },
      "execution_count": 117,
      "outputs": [
        {
          "output_type": "stream",
          "name": "stdout",
          "text": [
            "accuracy_score:  0.7003367003367004\n",
            "f1_score:  0.6825602012764221\n"
          ]
        }
      ]
    },
    {
      "cell_type": "code",
      "source": [
        "plot_roc(y_test, y_pred_proba_pca)"
      ],
      "metadata": {
        "colab": {
          "base_uri": "https://localhost:8080/",
          "height": 312
        },
        "id": "1rxsW54wWpki",
        "outputId": "10b29e5d-a0e9-4ccc-b284-96bac1bfd65a"
      },
      "execution_count": 118,
      "outputs": [
        {
          "output_type": "execute_result",
          "data": {
            "text/plain": [
              "<matplotlib.axes._subplots.AxesSubplot at 0x7fc271998af0>"
            ]
          },
          "metadata": {},
          "execution_count": 118
        },
        {
          "output_type": "display_data",
          "data": {
            "text/plain": [
              "<Figure size 432x288 with 1 Axes>"
            ],
            "image/png": "[encoded data removed]"
          },
          "metadata": {
            "needs_background": "light"
          }
        }
      ]
    },
    {
      "cell_type": "markdown",
      "metadata": {
        "nbgrader": {
          "grade": false,
          "grade_id": "cell-4fbf16c64076e139",
          "locked": true,
          "schema_version": 2,
          "solution": false
        },
        "id": "EeB1GlHFA1YM"
      },
      "source": [
        "#### 2.5. Decision tree\n",
        "* Now train a desicion tree on the same data. Find optimal tree depth (`max_depth`) using cross-validation.\n",
        "\n",
        "* Measure the model quality using the same metrics you used above."
      ]
    },
    {
      "cell_type": "code",
      "metadata": {
        "nbgrader": {
          "grade": true,
          "grade_id": "cell-748ed20b51c67fab",
          "locked": false,
          "points": 15,
          "schema_version": 2,
          "solution": true
        },
        "id": "dKsVljiBA1YM"
      },
      "source": [
        "from sklearn.tree import DecisionTreeClassifier"
      ],
      "execution_count": 119,
      "outputs": []
    },
    {
      "cell_type": "code",
      "metadata": {
        "nbgrader": {
          "grade": true,
          "grade_id": "cell-12d53ea45258fa82",
          "locked": false,
          "points": 5,
          "schema_version": 2,
          "solution": true
        },
        "id": "3rRSF4c2A1YP",
        "outputId": "a99dfe04-e9e7-4138-f466-22bb5a910450",
        "colab": {
          "base_uri": "https://localhost:8080/"
        }
      },
      "source": [
        "cv = ShuffleSplit(n_splits=5, test_size=0.3, random_state=0)\n",
        "\n",
        "# Проведем подбор гиперпараметров с помощью крос валидации\n",
        "\n",
        "for i in range(1,20):\n",
        "\n",
        "    d_tree = DecisionTreeClassifier(max_depth=i, random_state=1)\n",
        "    \n",
        "    print(f'For max_depth {i} score = {np.mean(cross_val_score(d_tree, X_train, y_train, cv=cv, scoring=\"f1_macro\"))}')"
      ],
      "execution_count": 139,
      "outputs": [
        {
          "output_type": "stream",
          "name": "stdout",
          "text": [
            "For max_depth 1 score = 0.25853248950866325\n",
            "For max_depth 2 score = 0.4691156517745247\n",
            "For max_depth 3 score = 0.5814872581652885\n",
            "For max_depth 4 score = 0.6384317908568219\n",
            "For max_depth 5 score = 0.6709028781649794\n",
            "For max_depth 6 score = 0.6616527623805144\n",
            "For max_depth 7 score = 0.6504637512149666\n",
            "For max_depth 8 score = 0.6576041378212407\n",
            "For max_depth 9 score = 0.6468135697964184\n",
            "For max_depth 10 score = 0.6533221225773975\n",
            "For max_depth 11 score = 0.6539569553493436\n",
            "For max_depth 12 score = 0.6533374415163282\n",
            "For max_depth 13 score = 0.6565139161024911\n",
            "For max_depth 14 score = 0.6592967512164922\n",
            "For max_depth 15 score = 0.6636579639453304\n",
            "For max_depth 16 score = 0.6654599101276277\n",
            "For max_depth 17 score = 0.6654599101276277\n",
            "For max_depth 18 score = 0.6654599101276277\n",
            "For max_depth 19 score = 0.6654599101276277\n"
          ]
        }
      ]
    },
    {
      "cell_type": "code",
      "metadata": {
        "id": "HasI7DDbA1YT"
      },
      "source": [
        "d_tree = DecisionTreeClassifier(max_depth = 15, random_state=1)\n",
        "d_tree.fit(X_train,y_train)\n",
        "\n",
        "y_pred = d_tree.predict(X_test)\n",
        "y_pred_proba = d_tree.predict_proba(X_test)"
      ],
      "execution_count": 121,
      "outputs": []
    },
    {
      "cell_type": "code",
      "metadata": {
        "id": "_fRm6-XqA1YW",
        "outputId": "b8f40770-3549-4698-cea9-56d7512cda3a",
        "colab": {
          "base_uri": "https://localhost:8080/"
        }
      },
      "source": [
        "print('accuracy_score: ',accuracy_score(y_test, y_pred))\n",
        "print('f1_score: ',f1_score(y_test, y_pred, average='weighted'))\n"
      ],
      "execution_count": 122,
      "outputs": [
        {
          "output_type": "stream",
          "name": "stdout",
          "text": [
            "accuracy_score:  0.6801346801346801\n",
            "f1_score:  0.6777025151767373\n"
          ]
        }
      ]
    },
    {
      "cell_type": "code",
      "metadata": {
        "id": "6a3_Vh6rA1YZ",
        "outputId": "f1bc51f5-2b3e-4325-8103-b0c6c6e42521",
        "colab": {
          "base_uri": "https://localhost:8080/",
          "height": 312
        }
      },
      "source": [
        "plot_roc(y_test, y_pred_proba)"
      ],
      "execution_count": 123,
      "outputs": [
        {
          "output_type": "execute_result",
          "data": {
            "text/plain": [
              "<matplotlib.axes._subplots.AxesSubplot at 0x7fc271903040>"
            ]
          },
          "metadata": {},
          "execution_count": 123
        },
        {
          "output_type": "display_data",
          "data": {
            "text/plain": [
              "<Figure size 432x288 with 1 Axes>"
            ],
            "image/png": "[encoded data removed]"
          },
          "metadata": {
            "needs_background": "light"
          }
        }
      ]
    },
    {
      "cell_type": "markdown",
      "metadata": {
        "nbgrader": {
          "grade": false,
          "grade_id": "cell-9eadd4d8a03ae67a",
          "locked": true,
          "schema_version": 2,
          "solution": false
        },
        "id": "wUIthEvXA1Yc"
      },
      "source": [
        "#### 2.6. Bagging.\n",
        "Here starts the ensembling part.\n",
        "\n",
        "First we will use the __Bagging__ approach. Build an ensemble of $N$ algorithms varying N from $N_{min}=2$ to $N_{max}=100$ (with step 5).\n",
        "\n",
        "We will build two ensembles: of logistic regressions and of decision trees.\n",
        "\n",
        "*Comment: each ensemble should be constructed from models of the same family, so logistic regressions should not be mixed up with decision trees.*\n",
        "\n",
        "\n",
        "*Hint 1: To build a __Bagging__ ensebmle varying the ensemble size efficiently you might generate $N_{max}$ subsets of `train` data (of the same size as the original dataset) using bootstrap procedure once. Then you train a new instance of logistic regression/decision tree with optimal hyperparameters you estimated before on each subset (so you train it from scratch). Finally, to get an ensemble of $N$ models you average the $N$ out of $N_{max}$ models predictions.*\n",
        "\n",
        "*Hint 2: sklearn might help you with this taks. Some appropriate function/class might be out there.*\n",
        "\n",
        "* Plot `f1` and `accuracy` scores plots w.r.t. the size of the ensemble.\n",
        "\n",
        "* Briefly analyse the plot. What is the optimal number of algorithms? Explain your answer.\n",
        "\n",
        "* How do you think, are the hyperparameters for the decision trees you found in 2.5 optimal for trees used in ensemble? "
      ]
    },
    {
      "cell_type": "code",
      "metadata": {
        "nbgrader": {
          "grade": true,
          "grade_id": "cell-8fc95a2b206bdae1",
          "locked": false,
          "points": 35,
          "schema_version": 2,
          "solution": true
        },
        "id": "jdHAorgtA1Yd"
      },
      "source": [
        "from sklearn.ensemble import BaggingClassifier"
      ],
      "execution_count": 124,
      "outputs": []
    },
    {
      "cell_type": "markdown",
      "metadata": {
        "id": "hhraSBmSA1Yf"
      },
      "source": [
        "Для лог рега:"
      ]
    },
    {
      "cell_type": "code",
      "metadata": {
        "id": "SA4U57mSA1Yg"
      },
      "source": [
        "acc_dict = {}\n",
        "f1_dict = {}\n",
        "for i in range(2,100,5):\n",
        "    linear_bag = BaggingClassifier(base_estimator=log_reg,\n",
        "                             n_estimators=i, random_state=0, n_jobs=4).fit(X_train_pd_scaled,y_train)\n",
        "\n",
        "    y_pred = linear_bag.predict(X_test_pd_scaled)\n",
        "    \n",
        "    acc_dict[i] = accuracy_score(y_test, y_pred)\n",
        "    f1_dict[i] = f1_score(y_test, y_pred, average='weighted')"
      ],
      "execution_count": 125,
      "outputs": []
    },
    {
      "cell_type": "code",
      "metadata": {
        "id": "OtSvGFFSA1Yj",
        "outputId": "f978292b-e7e4-4909-d4c2-3ec24c936606",
        "colab": {
          "base_uri": "https://localhost:8080/"
        }
      },
      "source": [
        "import operator\n",
        "best_acc  = max(acc_dict.items(), key=operator.itemgetter(1))[0]\n",
        "best_f1 = max(f1_dict.items(), key=operator.itemgetter(1))[0]\n",
        "print(f'Наилучший (accuracy) ансамбль логрегов состоит из {best_acc} моделей')\n",
        "print(f'Наилучший (f1) ансамбль логрегов состоит из {best_f1} моделей')"
      ],
      "execution_count": 126,
      "outputs": [
        {
          "output_type": "stream",
          "name": "stdout",
          "text": [
            "Наилучший (accuracy) ансамбль логрегов состоит из 12 моделей\n",
            "Наилучший (f1) ансамбль логрегов состоит из 12 моделей\n"
          ]
        }
      ]
    },
    {
      "cell_type": "code",
      "metadata": {
        "id": "y-jZ1ctgA1Yl",
        "outputId": "6be36bdf-31ea-4a4e-dbf4-13204539a550",
        "colab": {
          "base_uri": "https://localhost:8080/"
        }
      },
      "source": [
        "print(f'accuracy = {acc_dict[best_acc]}')\n",
        "\n",
        "print(f'f1 = {f1_dict[best_f1]}')"
      ],
      "execution_count": 127,
      "outputs": [
        {
          "output_type": "stream",
          "name": "stdout",
          "text": [
            "accuracy = 0.7306397306397306\n",
            "f1 = 0.7149832713051104\n"
          ]
        }
      ]
    },
    {
      "cell_type": "code",
      "metadata": {
        "id": "dW_Zvpv5A1Yn",
        "outputId": "89c46a8b-8730-45cc-f3f9-7c52d8f8a012",
        "colab": {
          "base_uri": "https://localhost:8080/",
          "height": 265
        }
      },
      "source": [
        "lists = sorted(f1_dict.items())\n",
        "x_f1, y_f1 = zip(*lists)\n",
        "sns.lineplot(x=range(2,100,5), y=y_f1)\n",
        "plt.show()"
      ],
      "execution_count": 128,
      "outputs": [
        {
          "output_type": "display_data",
          "data": {
            "text/plain": [
              "<Figure size 432x288 with 1 Axes>"
            ],
            "image/png": "[encoded data removed]"
          },
          "metadata": {
            "needs_background": "light"
          }
        }
      ]
    },
    {
      "cell_type": "code",
      "metadata": {
        "id": "v7T3tNxvA1Yp",
        "outputId": "4f3aabb9-3701-43a2-a6ac-4546508d1d5d",
        "colab": {
          "base_uri": "https://localhost:8080/",
          "height": 265
        }
      },
      "source": [
        "lists = sorted(acc_dict.items())\n",
        "x_acc, y_acc = zip(*lists)\n",
        "sns.lineplot(x=range(2,100,5), y=y_acc)\n",
        "plt.show()"
      ],
      "execution_count": 129,
      "outputs": [
        {
          "output_type": "display_data",
          "data": {
            "text/plain": [
              "<Figure size 432x288 with 1 Axes>"
            ],
            "image/png": "[encoded data removed]"
          },
          "metadata": {
            "needs_background": "light"
          }
        }
      ]
    },
    {
      "cell_type": "markdown",
      "metadata": {
        "id": "J0ePskXAA1Yr"
      },
      "source": [
        "для деревьев:"
      ]
    },
    {
      "cell_type": "code",
      "metadata": {
        "id": "3yEFjDdgA1Ys"
      },
      "source": [
        "acc_dict = {}\n",
        "f1_dict = {}\n",
        "for i in range(2,100,5):\n",
        "    tree_bag = BaggingClassifier(base_estimator=d_tree,\n",
        "                             n_estimators=i, random_state=0, n_jobs=4).fit(X_train_pd_scaled,y_train)\n",
        "\n",
        "    y_pred = tree_bag.predict(X_test_pd_scaled)\n",
        "    \n",
        "    acc_dict[i] = accuracy_score(y_test, y_pred)\n",
        "    f1_dict[i] = f1_score(y_test, y_pred, average='weighted')"
      ],
      "execution_count": 140,
      "outputs": []
    },
    {
      "cell_type": "code",
      "metadata": {
        "id": "M1MH8WAVA1Yu",
        "outputId": "70385e05-5b26-47f1-c596-28ec37a5c331",
        "colab": {
          "base_uri": "https://localhost:8080/"
        }
      },
      "source": [
        "import operator\n",
        "best_acc  = max(acc_dict.items(), key=operator.itemgetter(1))[0]\n",
        "best_f1 = max(f1_dict.items(), key=operator.itemgetter(1))[0]\n",
        "print(f'Наилучший (accuracy) ансамбль деревьев состоит из {best_acc} моделей')\n",
        "print(f'Наилучший (f1) ансамбль деревьев состоит из {best_f1} моделей')"
      ],
      "execution_count": 141,
      "outputs": [
        {
          "output_type": "stream",
          "name": "stdout",
          "text": [
            "Наилучший (accuracy) ансамбль деревьев состоит из 12 моделей\n",
            "Наилучший (f1) ансамбль деревьев состоит из 12 моделей\n"
          ]
        }
      ]
    },
    {
      "cell_type": "code",
      "metadata": {
        "id": "dq1IhwKaA1Yw",
        "outputId": "2a9a21d0-90a0-443d-8da1-671b4323bba3",
        "colab": {
          "base_uri": "https://localhost:8080/"
        }
      },
      "source": [
        "print(f'accuracy = {acc_dict[best_acc]}')\n",
        "\n",
        "print(f'f1 = {f1_dict[best_f1]}')"
      ],
      "execution_count": 142,
      "outputs": [
        {
          "output_type": "stream",
          "name": "stdout",
          "text": [
            "accuracy = 0.734006734006734\n",
            "f1 = 0.7273467450289434\n"
          ]
        }
      ]
    },
    {
      "cell_type": "code",
      "metadata": {
        "id": "53CCnET5A1Yz",
        "outputId": "02b1518f-d34c-4326-ef7f-4f9bb66b6cc3",
        "colab": {
          "base_uri": "https://localhost:8080/",
          "height": 265
        }
      },
      "source": [
        "lists = sorted(f1_dict.items())\n",
        "x_f1, y_f1 = zip(*lists)\n",
        "sns.lineplot(x=range(2,100,5), y=y_f1)\n",
        "plt.show()"
      ],
      "execution_count": 143,
      "outputs": [
        {
          "output_type": "display_data",
          "data": {
            "text/plain": [
              "<Figure size 432x288 with 1 Axes>"
            ],
            "image/png": "[encoded data removed]"
          },
          "metadata": {
            "needs_background": "light"
          }
        }
      ]
    },
    {
      "cell_type": "code",
      "metadata": {
        "id": "MwmXO0TGA1Y1",
        "outputId": "d425487d-edbe-422a-a029-101d85fc45e8",
        "colab": {
          "base_uri": "https://localhost:8080/",
          "height": 265
        }
      },
      "source": [
        "lists = sorted(acc_dict.items())\n",
        "x_acc, y_acc = zip(*lists)\n",
        "sns.lineplot(x=range(2,100,5), y=y_acc)\n",
        "plt.show()"
      ],
      "execution_count": 133,
      "outputs": [
        {
          "output_type": "display_data",
          "data": {
            "text/plain": [
              "<Figure size 432x288 with 1 Axes>"
            ],
            "image/png": "[encoded data removed]"
          },
          "metadata": {
            "needs_background": "light"
          }
        }
      ]
    },
    {
      "cell_type": "markdown",
      "metadata": {
        "nbgrader": {
          "grade": false,
          "grade_id": "cell-241b7691ab44cbfb",
          "locked": true,
          "schema_version": 2,
          "solution": false
        },
        "id": "7qNiB7u4A1Y4"
      },
      "source": [
        "#### 2.7. Random Forest\n",
        "Now we will work with the Random Forest (its `sklearn` implementation).\n",
        "\n",
        "* * Plot `f1` and `accuracy` scores plots w.r.t. the number of trees in Random Forest.\n",
        "\n",
        "* What is the optimal number of trees you've got? Is it different from the optimal number of logistic regressions/decision trees in 2.6? Explain the results briefly."
      ]
    },
    {
      "cell_type": "code",
      "metadata": {
        "nbgrader": {
          "grade": true,
          "grade_id": "cell-888755d0f3d91620",
          "locked": false,
          "points": 15,
          "schema_version": 2,
          "solution": true
        },
        "id": "Hy0fSDeJA1Y4"
      },
      "source": [
        "from sklearn.ensemble import RandomForestClassifier"
      ],
      "execution_count": 134,
      "outputs": []
    },
    {
      "cell_type": "code",
      "metadata": {
        "nbgrader": {
          "grade": true,
          "grade_id": "cell-888755d0f3d91620",
          "locked": false,
          "points": 15,
          "schema_version": 2,
          "solution": true
        },
        "id": "jf8aC_wpA1Y8"
      },
      "source": [
        "acc_dict = {}\n",
        "f1_dict = {}\n",
        "for i in range(2,100,5):\n",
        "    rand_for = RandomForestClassifier(n_estimators=i ,max_depth = 15, random_state=1)\n",
        "    rand_for.fit(X_train,y_train)\n",
        "    \n",
        "    y_pred = rand_for.predict(X_test)\n",
        "\n",
        "    acc_dict[i] = accuracy_score(y_test, y_pred)\n",
        "    f1_dict[i] = f1_score(y_test, y_pred, average='weighted')"
      ],
      "execution_count": 144,
      "outputs": []
    },
    {
      "cell_type": "code",
      "metadata": {
        "id": "FK5pgKkpA1ZA",
        "outputId": "98a568ed-e044-4e97-a893-a68be68f83ec",
        "colab": {
          "base_uri": "https://localhost:8080/"
        }
      },
      "source": [
        "best_acc  = max(acc_dict.items(), key=operator.itemgetter(1))[0]\n",
        "best_f1 = max(f1_dict.items(), key=operator.itemgetter(1))[0]\n",
        "print(f'Наилучший (accuracy) RandomForest получает из {best_acc} деревьев, точность составила {acc_dict[best_acc]}')\n",
        "print(f'Наилучший (f1) RandomForest получает из {best_f1} деревьев точность составила {f1_dict[best_f1]}')"
      ],
      "execution_count": 145,
      "outputs": [
        {
          "output_type": "stream",
          "name": "stdout",
          "text": [
            "Наилучший (accuracy) RandomForest получает из 42 деревьев, точность составила 0.7508417508417509\n",
            "Наилучший (f1) RandomForest получает из 82 деревьев точность составила 0.743487967077291\n"
          ]
        }
      ]
    },
    {
      "cell_type": "code",
      "metadata": {
        "id": "gQFPS-hOA1ZE",
        "outputId": "db05aecf-6e06-46e0-bfa9-db275772f20f",
        "colab": {
          "base_uri": "https://localhost:8080/",
          "height": 265
        }
      },
      "source": [
        "lists = sorted(acc_dict.items())\n",
        "x_acc, y_acc = zip(*lists)\n",
        "sns.lineplot(x=range(2,100,5), y=y_acc)\n",
        "plt.show()"
      ],
      "execution_count": 137,
      "outputs": [
        {
          "output_type": "display_data",
          "data": {
            "text/plain": [
              "<Figure size 432x288 with 1 Axes>"
            ],
            "image/png": "[encoded data removed]"
          },
          "metadata": {
            "needs_background": "light"
          }
        }
      ]
    },
    {
      "cell_type": "code",
      "metadata": {
        "id": "DGZTsVoZA1ZJ",
        "outputId": "2caf4c9d-4725-4ea5-af79-7d8d90bac8bb",
        "colab": {
          "base_uri": "https://localhost:8080/",
          "height": 265
        }
      },
      "source": [
        "lists = sorted(f1_dict.items())\n",
        "x_f1, y_f1 = zip(*lists)\n",
        "sns.lineplot(x=range(2,100,5), y=y_f1)\n",
        "plt.show()"
      ],
      "execution_count": 138,
      "outputs": [
        {
          "output_type": "display_data",
          "data": {
            "text/plain": [
              "<Figure size 432x288 with 1 Axes>"
            ],
            "image/png": "[encoded data removed]"
          },
          "metadata": {
            "needs_background": "light"
          }
        }
      ]
    },
    {
      "cell_type": "markdown",
      "metadata": {
        "nbgrader": {
          "grade": false,
          "grade_id": "cell-99191c0852538d4d",
          "locked": true,
          "schema_version": 2,
          "solution": false
        },
        "id": "dxeZCkQeA1ZO"
      },
      "source": [
        "#### 2.8. Learning curve\n",
        "Your goal is to estimate, how does the model behaviour change with the increase of the `train` dataset size.\n",
        "\n",
        "* Split the training data into 10 equal (almost) parts. Then train the models from above (Logistic regression, Desicion Tree, Random Forest) with optimal hyperparameters you have selected on 1 part, 2 parts (combined, so the train size in increased by 2 times), 3 parts and so on.\n",
        "\n",
        "* Build a plot of `accuracy` and `f1` scores on `test` part, varying the `train` dataset size (so the axes will be score - dataset size.\n",
        "\n",
        "* Analyse the final plot. Can you make any conlusions using it? "
      ]
    },
    {
      "cell_type": "code",
      "metadata": {
        "nbgrader": {
          "grade": true,
          "grade_id": "cell-e39bc7e7dff61ff9",
          "locked": false,
          "points": 15,
          "schema_version": 2,
          "solution": true
        },
        "id": "f3zys8vuA1ZP"
      },
      "source": [
        "log_reg = LogisticRegression(multi_class='multinomial', solver='saga', tol=1e-3, max_iter=500, C = 6)\n",
        "D_tree = DecisionTreeClassifier(max_depth = 15, random_state=1)\n",
        "rand_for = RandomForestClassifier(n_estimators=42 ,max_depth = 15, random_state=1)"
      ],
      "execution_count": null,
      "outputs": []
    },
    {
      "cell_type": "code",
      "metadata": {
        "id": "OAYSdLgzA1ZR"
      },
      "source": [
        "import math\n",
        "\n",
        "def spliter(df, n):\n",
        "    \n",
        "    df_dict = dict()\n",
        "    step = math.ceil(df.shape[0]/n)\n",
        "    left = 0\n",
        "    right = step\n",
        "    for i in range(n):\n",
        "        df_dict[i] = df[left:right]\n",
        "        left = right\n",
        "        right += step\n",
        "    return df_dict"
      ],
      "execution_count": null,
      "outputs": []
    },
    {
      "cell_type": "code",
      "metadata": {
        "id": "sDfVZzQrA1ZU"
      },
      "source": [
        "X_dict = spliter(X_train, 10)\n",
        "y_dict = spliter(y_train, 10)"
      ],
      "execution_count": null,
      "outputs": []
    },
    {
      "cell_type": "code",
      "metadata": {
        "id": "VHiXwaNQA1ZX"
      },
      "source": [
        "acc_dict_tree = {}\n",
        "f1_dict_tree = {}\n",
        "for i in range(10):\n",
        "    X_concat = np.concatenate([X_dict[j] for j in range(0,i+1)])\n",
        "    y_concat = np.concatenate([y_dict[j] for j in range(0,i+1)])\n",
        "    D_tree.fit(X_concat, y_concat)\n",
        "    \n",
        "    y_pred = D_tree.predict(X_test)\n",
        "    acc_dict_tree[i] = accuracy_score(y_test, y_pred)\n",
        "    f1_dict_tree[i] = f1_score(y_test, y_pred, average='weighted')"
      ],
      "execution_count": null,
      "outputs": []
    },
    {
      "cell_type": "code",
      "metadata": {
        "id": "FOClg_K6A1Zb"
      },
      "source": [
        "acc_dict_rand_for = {}\n",
        "f1_dict_rand_for = {}\n",
        "for i in range(10):\n",
        "    X_concat = np.concatenate([X_dict[j] for j in range(0,i+1)])\n",
        "    y_concat = np.concatenate([y_dict[j] for j in range(0,i+1)])\n",
        "    rand_for.fit(X_concat, y_concat)\n",
        "    \n",
        "    y_pred = rand_for.predict(X_test)\n",
        "    acc_dict_rand_for[i] = accuracy_score(y_test, y_pred)\n",
        "    f1_dict_rand_for[i] = f1_score(y_test, y_pred, average='weighted')"
      ],
      "execution_count": 146,
      "outputs": []
    },
    {
      "cell_type": "code",
      "metadata": {
        "id": "SKtKvxyWA1Ze"
      },
      "source": [
        "X_dict_scaled = spliter(X_train_pd_scaled, 10)"
      ],
      "execution_count": 147,
      "outputs": []
    },
    {
      "cell_type": "code",
      "metadata": {
        "id": "YQY2c7AUA1Zj"
      },
      "source": [
        "acc_dict_lin = {}\n",
        "f1_dict_lin = {}\n",
        "for i in range(10):\n",
        "    X_concat = np.concatenate([X_dict_scaled[j] for j in range(0,i+1)])\n",
        "    y_concat = np.concatenate([y_dict[j] for j in range(0,i+1)])\n",
        "    log_reg.fit(X_concat, y_concat)\n",
        "    \n",
        "    y_pred = log_reg.predict(X_test_pd_scaled)\n",
        "    acc_dict_lin[i] = accuracy_score(y_test, y_pred)\n",
        "    f1_dict_lin[i] = f1_score(y_test, y_pred, average='weighted')"
      ],
      "execution_count": 148,
      "outputs": []
    },
    {
      "cell_type": "code",
      "metadata": {
        "id": "SVSH40BFA1Zq",
        "outputId": "58991911-9ed2-40f3-e5b4-0ab302669ba1",
        "colab": {
          "base_uri": "https://localhost:8080/"
        }
      },
      "source": [
        "acc_dict_lin.keys()"
      ],
      "execution_count": null,
      "outputs": [
        {
          "output_type": "execute_result",
          "data": {
            "text/plain": [
              "dict_keys([0, 1, 2, 3, 4, 5, 6, 7, 8, 9])"
            ]
          },
          "metadata": {},
          "execution_count": 100
        }
      ]
    },
    {
      "cell_type": "code",
      "metadata": {
        "id": "OaD8KnXQA1Zu"
      },
      "source": [
        "for_plot_acc = pd.DataFrame()\n",
        "for_plot_acc['iteration'] = list(acc_dict_lin.keys())\n",
        "for_plot_acc['tree'] = list(acc_dict_tree.values())\n",
        "for_plot_acc['random_for'] = list(acc_dict_rand_for.values())\n",
        "for_plot_acc['log_reg'] = list(acc_dict_lin.values())"
      ],
      "execution_count": 152,
      "outputs": []
    },
    {
      "cell_type": "code",
      "metadata": {
        "id": "2EILDkypA1Zx",
        "outputId": "7ae03a8a-607d-47a2-90e5-04cc93a579bb",
        "colab": {
          "base_uri": "https://localhost:8080/",
          "height": 334
        }
      },
      "source": [
        "sns.lineplot('iteration', 'value', hue='variable', \n",
        "             data=pd.melt(for_plot_acc, 'iteration'))\n",
        "plt.show()"
      ],
      "execution_count": 153,
      "outputs": [
        {
          "output_type": "stream",
          "name": "stderr",
          "text": [
            "/usr/local/lib/python3.8/dist-packages/seaborn/_decorators.py:36: FutureWarning: Pass the following variables as keyword args: x, y. From version 0.12, the only valid positional argument will be `data`, and passing other arguments without an explicit keyword will result in an error or misinterpretation.\n",
            "  warnings.warn(\n"
          ]
        },
        {
          "output_type": "display_data",
          "data": {
            "text/plain": [
              "<Figure size 432x288 with 1 Axes>"
            ],
            "image/png": "[encoded data removed]"
          },
          "metadata": {
            "needs_background": "light"
          }
        }
      ]
    },
    {
      "cell_type": "code",
      "metadata": {
        "id": "ncFXCP8UA1Z1"
      },
      "source": [
        "for_plot_f1 = pd.DataFrame()\n",
        "for_plot_f1['iteration'] = list(f1_dict_lin.keys())\n",
        "for_plot_f1['tree'] = list(f1_dict_tree.values())\n",
        "for_plot_f1['random_trees'] = list(f1_dict_rand_for.values())\n",
        "for_plot_f1['log_reg'] = list(f1_dict_lin.values())"
      ],
      "execution_count": 155,
      "outputs": []
    },
    {
      "cell_type": "code",
      "metadata": {
        "id": "qMy0U-HXA1Z4",
        "outputId": "0919c070-a9f2-4fa4-81c4-ee9b76c6da59",
        "colab": {
          "base_uri": "https://localhost:8080/",
          "height": 334
        }
      },
      "source": [
        "sns.lineplot('iteration', 'value', hue='variable', \n",
        "             data=pd.melt(for_plot_f1, 'iteration'))\n",
        "plt.show()"
      ],
      "execution_count": 156,
      "outputs": [
        {
          "output_type": "stream",
          "name": "stderr",
          "text": [
            "/usr/local/lib/python3.8/dist-packages/seaborn/_decorators.py:36: FutureWarning: Pass the following variables as keyword args: x, y. From version 0.12, the only valid positional argument will be `data`, and passing other arguments without an explicit keyword will result in an error or misinterpretation.\n",
            "  warnings.warn(\n"
          ]
        },
        {
          "output_type": "display_data",
          "data": {
            "text/plain": [
              "<Figure size 432x288 with 1 Axes>"
            ],
            "image/png": "[encoded data removed]"
          },
          "metadata": {
            "needs_background": "light"
          }
        }
      ]
    },
    {
      "cell_type": "markdown",
      "metadata": {
        "id": "1P6BVIzFA1Z6"
      },
      "source": [
        "Увеличение выборки способствует увеличению точности.\n",
        "\n",
        "Сильнее всего это заметно на решающем дереве, так как увеличение выборки - это единственный вариант снизить variance.\n",
        "\n",
        "На случайных деревьях эффект ниже, так как variance снижается за счет бутсрапа и случайной выборки фичей.\n",
        "\n",
        "Логрег обладает наименьшим эффектом, так как увлеличение выборки не способствует снижению смещения (к примеру, возможно, есть пропущенная переменная и увеличение кол-ва наблюдений не приведет к исправлению этого факта)"
      ]
    },
    {
      "cell_type": "code",
      "metadata": {
        "id": "0PVZ-Vg4A1Z7"
      },
      "source": [],
      "execution_count": null,
      "outputs": []
    }
  ],
  "metadata": {
    "celltoolbar": "Create Assignment",
    "kernelspec": {
      "display_name": "Py3 Research",
      "language": "python",
      "name": "py3_research_kernel"
    },
    "language_info": {
      "codemirror_mode": {
        "name": "ipython",
        "version": 3
      },
      "file_extension": ".py",
      "mimetype": "text/x-python",
      "name": "python",
      "nbconvert_exporter": "python",
      "pygments_lexer": "ipython3",
      "version": "3.9.7"
    },
    "toc": {
      "base_numbering": 1,
      "nav_menu": {},
      "number_sections": false,
      "sideBar": true,
      "skip_h1_title": false,
      "title_cell": "Table of Contents",
      "title_sidebar": "Contents",
      "toc_cell": false,
      "toc_position": {},
      "toc_section_display": true,
      "toc_window_display": false
    },
    "colab": {
      "provenance": []
    }
  },
  "nbformat": 4,
  "nbformat_minor": 0
}