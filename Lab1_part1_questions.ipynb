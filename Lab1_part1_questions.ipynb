{
  "cells": [
    {
      "cell_type": "markdown",
      "metadata": {
        "id": "D_sSye9AubU8"
      },
      "source": [
        "*Credits: materials from this notebook belong to YSDA [Practical DL](https://github.com/yandexdataschool/Practical_DL) course. Special thanks for making them available online.*"
      ]
    },
    {
      "cell_type": "markdown",
      "metadata": {
        "id": "Dg5T0cnyubU-"
      },
      "source": [
        "# Lab assignment №1, part 1\n",
        "\n",
        "This lab assignment consists of several parts. You are supposed to make some transformations, train some models, estimate the quality of the models and explain your results.\n",
        "\n",
        "Several comments:\n",
        "* Don't hesitate to ask questions, it's a good practice.\n",
        "* No private/public sharing, please. The copied assignments will be graded with 0 points.\n",
        "* Blocks of this lab will be graded separately."
      ]
    },
    {
      "cell_type": "markdown",
      "metadata": {
        "id": "jbiBmc16ubU_"
      },
      "source": [
        "## Part 1. Matrix differentiation"
      ]
    },
    {
      "cell_type": "markdown",
      "metadata": {
        "id": "nQYqkurIubU_"
      },
      "source": [
        "Since it easy to google every task please please please try to undestand what's going on. The \"just answer\" thing will be not counted, make sure to present derivation of your solution. It is absolutely OK if you found an answer on web then just exercise in $\\LaTeX$ copying it into here."
      ]
    },
    {
      "cell_type": "markdown",
      "metadata": {
        "id": "uWokz6CrubVA"
      },
      "source": [
        "Useful links: \n",
        "[1](http://www.machinelearning.ru/wiki/images/2/2a/Matrix-Gauss.pdf)\n",
        "[2](http://www.atmos.washington.edu/~dennis/MatrixCalculus.pdf)\n",
        "[3](http://cal.cs.illinois.edu/~johannes/research/matrix%20calculus.pdf)\n",
        "[4](http://research.microsoft.com/en-us/um/people/cmbishop/prml/index.htm)"
      ]
    },
    {
      "cell_type": "markdown",
      "metadata": {
        "id": "ujYvQ4VaubVA"
      },
      "source": [
        "## ex. 1"
      ]
    },
    {
      "cell_type": "markdown",
      "metadata": {
        "id": "PJVTcpbAubVA"
      },
      "source": [
        "$$  \n",
        "y = x^Tx,  \\quad x \\in \\mathbb{R}^N \n",
        "$$"
      ]
    },
    {
      "cell_type": "markdown",
      "metadata": {
        "id": "_bxjQ9_QubVA"
      },
      "source": [
        "$$\n",
        "y = \\sum_{i = 1}^{n} x_i^2\n",
        "=>\n",
        "\\frac{dy}{dx_i} = 2x_i\n",
        "=>\n",
        "\\frac{dy}{dx} = 2x\n",
        "$$"
      ]
    },
    {
      "cell_type": "markdown",
      "metadata": {
        "id": "32ypaQg3ubVB"
      },
      "source": [
        "## ex. 2"
      ]
    },
    {
      "cell_type": "markdown",
      "metadata": {
        "id": "fpu_50BeubVB"
      },
      "source": [
        "$$ y = tr(AB) \\quad A,B \\in \\mathbb{R}^{N \\times N} $$ "
      ]
    },
    {
      "cell_type": "markdown",
      "metadata": {
        "id": "Xe5NNNsiubVB"
      },
      "source": [
        "$$\n",
        "y = tr(AB) = \\sum_{i=1}^{N}\\sum_{j=1}^{N}a_{ij}b_{ji}\n",
        "=> \n",
        "\\frac{dy}{da_{ij}} = b_{ji}  \n",
        "=>\n",
        "\\frac{dy}{dA} = B^T\n",
        "$$"
      ]
    },
    {
      "cell_type": "markdown",
      "metadata": {
        "id": "M-dvB5fiubVC"
      },
      "source": [
        "## ex. 3"
      ]
    },
    {
      "cell_type": "markdown",
      "metadata": {
        "id": "H_ffizS-ubVC"
      },
      "source": [
        "$$  \n",
        "y = x^TAc , \\quad A\\in \\mathbb{R}^{N \\times N}, x\\in \\mathbb{R}^{N}, c\\in \\mathbb{R}^{N} \n",
        "$$"
      ]
    },
    {
      "cell_type": "markdown",
      "metadata": {
        "id": "SI9qhKMXubVC"
      },
      "source": [
        "Hint for the latter (one of the ways): use *ex. 2* result and the fact \n",
        "$$\n",
        "tr(ABC) = tr (CAB)\n",
        "$$"
      ]
    },
    {
      "cell_type": "markdown",
      "metadata": {
        "id": "fPNE8MlKubVC"
      },
      "source": [
        "$$\n",
        "y = \\sum_{i = 1}^N (x_i \\cdot \\sum_{j = 1}^N c_ja_{ij}) = \\sum_{i = 1}^N\\sum_{j = 1}^N c_j a_{ij} x_i\n",
        "$$\n",
        "$$\n",
        "=>\\frac{dy}{da_{ij}} = x_ic_j\n",
        "=>\n",
        "\\frac{dy}{dA} = xc^T;\n",
        "$$\n",
        "$$\n",
        "=>\n",
        "\\frac{dy}{dx} = Ac\n",
        "$$\n"
      ]
    },
    {
      "cell_type": "markdown",
      "source": [
        "## ex. 4"
      ],
      "metadata": {
        "id": "xaaCMi4q9SBp"
      }
    },
    {
      "cell_type": "markdown",
      "source": [
        " нет"
      ],
      "metadata": {
        "id": "dU1-pYXf9b0Z"
      }
    }
  ],
  "metadata": {
    "kernelspec": {
      "display_name": "Python 3",
      "language": "python",
      "name": "python3"
    },
    "language_info": {
      "codemirror_mode": {
        "name": "ipython",
        "version": 3
      },
      "file_extension": ".py",
      "mimetype": "text/x-python",
      "name": "python",
      "nbconvert_exporter": "python",
      "pygments_lexer": "ipython3",
      "version": "3.8.10"
    },
    "colab": {
      "provenance": []
    }
  },
  "nbformat": 4,
  "nbformat_minor": 0
}