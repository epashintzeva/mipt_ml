{
  "cells": [
    {
      "cell_type": "markdown",
      "metadata": {
        "id": "j3f4lbhRj0Cf"
      },
      "source": [
        "## Lab 2\n"
      ]
    },
    {
      "cell_type": "markdown",
      "metadata": {
        "id": "Yz0fAStyj0Ci"
      },
      "source": [
        "### Part 3. Poetry generation\n",
        "\n",
        "Let's try to generate some poetry using RNNs. \n",
        "\n",
        "You have several choices here: \n",
        "\n",
        "* The Shakespeare sonnets, file `sonnets.txt` available in the notebook directory.\n",
        "\n",
        "* Роман в стихах \"Евгений Онегин\" Александра Сергеевича Пушкина. В предобработанном виде доступен по [ссылке](https://github.com/attatrol/data_sources/blob/master/onegin.txt).\n",
        "\n",
        "* Some other text source, if it will be approved by the course staff.\n",
        "\n",
        "Text generation can be designed in several steps:\n",
        "    \n",
        "1. Data loading.\n",
        "2. Dictionary generation.\n",
        "3. Data preprocessing.\n",
        "4. Model (neural network) training.\n",
        "5. Text generation (model evaluation).\n"
      ]
    },
    {
      "cell_type": "code",
      "execution_count": 1,
      "metadata": {
        "id": "o3PSl2Blj0Cj"
      },
      "outputs": [],
      "source": [
        "import string\n",
        "import os\n",
        "import re\n",
        "import nltk\n",
        "from nltk.tokenize import sent_tokenize, word_tokenize\n",
        "import numpy as np\n",
        "import torch, torch.nn as nn\n",
        "import torch.nn.functional as F\n",
        "import matplotlib.pyplot as plt\n",
        "\n",
        "\n",
        "from IPython.display import clear_output\n",
        "from random import sample"
      ]
    },
    {
      "cell_type": "code",
      "execution_count": 9,
      "metadata": {
        "id": "U9u1id0mj0Cj",
        "colab": {
          "base_uri": "https://localhost:8080/"
        },
        "outputId": "7ef4dc0b-9df9-42a4-f608-526ba8a05b79"
      },
      "outputs": [
        {
          "output_type": "stream",
          "name": "stderr",
          "text": [
            "[nltk_data] Downloading package punkt to /root/nltk_data...\n",
            "[nltk_data]   Unzipping tokenizers/punkt.zip.\n"
          ]
        },
        {
          "output_type": "execute_result",
          "data": {
            "text/plain": [
              "True"
            ]
          },
          "metadata": {},
          "execution_count": 9
        }
      ],
      "source": [
        "nltk.download('punkt')"
      ]
    },
    {
      "cell_type": "markdown",
      "metadata": {
        "id": "ZFvVKmy3j0Ck"
      },
      "source": [
        "### Data loading: Shakespeare"
      ]
    },
    {
      "cell_type": "markdown",
      "metadata": {
        "id": "MdJjVyY6j0Ck"
      },
      "source": [
        "Shakespeare sonnets are awailable at this [link](http://www.gutenberg.org/ebooks/1041?msg=welcome_stranger). In addition, they are stored in the same directory as this notebook (`sonnetes.txt`). Simple preprocessing is already done for you in the next cell: all technical info is dropped."
      ]
    },
    {
      "cell_type": "markdown",
      "metadata": {
        "id": "br70agDqj0Ck"
      },
      "source": [
        "In opposite to the in-class practice, this time we want to predict complex text. Let's reduce the complexity of the task and lowercase all the symbols.\n",
        "\n",
        "Now variable `text` is a list of strings. Join all the strings into one and lowercase it."
      ]
    },
    {
      "cell_type": "markdown",
      "metadata": {
        "id": "plBY8ht5j0Ck"
      },
      "source": [
        "### Data loading: \"Евгений Онегин\"\n"
      ]
    },
    {
      "cell_type": "code",
      "execution_count": 3,
      "metadata": {
        "id": "uxnyMY_0j0Ck",
        "colab": {
          "base_uri": "https://localhost:8080/"
        },
        "outputId": "cfd07c24-29aa-449b-9574-aec3a51646ce"
      },
      "outputs": [
        {
          "output_type": "stream",
          "name": "stdout",
          "text": [
            "--2023-01-11 16:09:42--  https://raw.githubusercontent.com/attatrol/data_sources/master/onegin.txt\n",
            "Resolving raw.githubusercontent.com (raw.githubusercontent.com)... 185.199.108.133, 185.199.109.133, 185.199.110.133, ...\n",
            "Connecting to raw.githubusercontent.com (raw.githubusercontent.com)|185.199.108.133|:443... connected.\n",
            "HTTP request sent, awaiting response... 200 OK\n",
            "Length: 262521 (256K) [text/plain]\n",
            "Saving to: ‘onegin.txt’\n",
            "\n",
            "\ronegin.txt            0%[                    ]       0  --.-KB/s               \ronegin.txt          100%[===================>] 256.37K  --.-KB/s    in 0.005s  \n",
            "\n",
            "2023-01-11 16:09:43 (53.8 MB/s) - ‘onegin.txt’ saved [262521/262521]\n",
            "\n"
          ]
        }
      ],
      "source": [
        "!wget https://raw.githubusercontent.com/attatrol/data_sources/master/onegin.txt\n",
        "    \n",
        "with open('onegin.txt', 'r') as iofile:\n",
        "    text = iofile.readlines()\n",
        "    \n",
        "text = [x.replace('\\t\\t', '') for x in text]"
      ]
    },
    {
      "cell_type": "markdown",
      "metadata": {
        "id": "15cZEJKaj0Cl"
      },
      "source": [
        "In opposite to the in-class practice, this time we want to predict complex text. Let's reduce the complexity of the task and lowercase all the symbols.\n",
        "\n",
        "Now variable `text` is a list of strings. Join all the strings into one and lowercase it."
      ]
    },
    {
      "cell_type": "code",
      "execution_count": 4,
      "metadata": {
        "id": "Ama76T8sj0Cl"
      },
      "outputs": [],
      "source": [
        "text = [re.sub(r\"[^а-я]\", \" \", string.lower()) for string in text]\n",
        "\n",
        "text = [re.sub(r\"\\s+\", \" \", string)[:-1] for string in text if string]\n",
        "\n",
        "text = [string+'' for string in text if string != '']"
      ]
    },
    {
      "cell_type": "code",
      "execution_count": 5,
      "metadata": {
        "id": "wRoWIkiCj0Cl"
      },
      "outputs": [],
      "source": [
        "text_for_token = ' '.join(text)"
      ]
    },
    {
      "cell_type": "code",
      "execution_count": 6,
      "metadata": {
        "id": "o-lGDdeRj0Cl"
      },
      "outputs": [],
      "source": [
        "text = [string.split(' ') for string in text]"
      ]
    },
    {
      "cell_type": "code",
      "execution_count": 7,
      "metadata": {
        "id": "GB8m80F2j0Cm"
      },
      "outputs": [],
      "source": [
        "MAX_LENGTH = max(map(len, text))"
      ]
    },
    {
      "cell_type": "markdown",
      "metadata": {
        "id": "VLwdPjUdj0Cm"
      },
      "source": [
        "Put all the characters, that you've seen in the text, into variable `tokens`."
      ]
    },
    {
      "cell_type": "code",
      "execution_count": 10,
      "metadata": {
        "id": "vG69dtANj0Cm"
      },
      "outputs": [],
      "source": [
        "tokens = word_tokenize(text_for_token)"
      ]
    },
    {
      "cell_type": "code",
      "execution_count": 11,
      "metadata": {
        "id": "FzFmy2xMj0Cm"
      },
      "outputs": [],
      "source": [
        "num_tokens = len(tokens)"
      ]
    },
    {
      "cell_type": "markdown",
      "metadata": {
        "id": "iUomLU5Oj0Cm"
      },
      "source": [
        "Create dictionary `token_to_idx = {<char>: <index>}` and dictionary `idx_to_token = {<index>: <char>}`"
      ]
    },
    {
      "cell_type": "code",
      "execution_count": 12,
      "metadata": {
        "id": "jmKQfS0oj0Cm"
      },
      "outputs": [],
      "source": [
        "token_to_idx = {token: idx for idx, token in enumerate(tokens)}\n",
        "\n",
        "idx_to_token = {idx: token for idx, token in enumerate(tokens)}"
      ]
    },
    {
      "cell_type": "code",
      "execution_count": 13,
      "metadata": {
        "id": "kOeP0Loaj0Cn"
      },
      "outputs": [],
      "source": [
        "# token_to_idx['\\n'] = max(token_to_idx.values()) + 1\n",
        "# idx_to_token[max(idx_to_token.keys()) + 1] = '\\n'\n",
        "\n",
        "\n",
        "token_to_idx[''] = max(token_to_idx.values()) + 1\n",
        "idx_to_token[max(idx_to_token.keys()) + 1] = ''"
      ]
    },
    {
      "cell_type": "code",
      "execution_count": 14,
      "metadata": {
        "id": "ueG6MF0_j0Cn"
      },
      "outputs": [],
      "source": [
        "def to_matrix(names, max_len=None, pad=token_to_idx[''], dtype='int32', batch_first = True):\n",
        "    \"\"\"Casts a list of names into rnn-digestable matrix\"\"\"\n",
        "    \n",
        "    max_len = max_len or max(map(len, names))\n",
        "    names_ix = np.zeros([len(names), max_len], dtype) + pad\n",
        "\n",
        "    for i in range(len(names)):\n",
        "        line_ix = [token_to_idx[c] for c in names[i]]\n",
        "        names_ix[i, :len(line_ix)] = line_ix\n",
        "        \n",
        "    if not batch_first: # convert [batch, time] into [time, batch]\n",
        "        names_ix = np.transpose(names_ix)\n",
        "\n",
        "    return names_ix"
      ]
    },
    {
      "cell_type": "markdown",
      "metadata": {
        "id": "RpcJZL1Wj0Cn"
      },
      "source": [
        "*Comment: in this task we have only 38 different tokens, so let's use one-hot encoding.*"
      ]
    },
    {
      "cell_type": "code",
      "execution_count": 16,
      "metadata": {
        "id": "jPxReaPdj0Cn",
        "outputId": "523b89b8-0b9f-44f6-f8fe-d55f7eeecfab",
        "colab": {
          "base_uri": "https://localhost:8080/"
        }
      },
      "outputs": [
        {
          "output_type": "stream",
          "name": "stdout",
          "text": [
            "[['', 'мой', 'дядя', 'самых', 'честных', 'правил'], ['когда', 'не', 'в', 'шутку', 'занемог'], ['он', 'уважать', 'себя', 'заставил'], ['и', 'лучше', 'выдумать', 'не', 'мог'], ['его', 'пример', 'другим', 'наука']]\n",
            "tensor([[22446, 22320,  2656,  4656,     3,  4008],\n",
            "        [21994, 22431, 22383,     8,     9, 22446],\n",
            "        [22194,  9152, 17170,    13, 22446, 22446],\n",
            "        [22435, 21838,    16, 22431, 22305, 22446],\n",
            "        [21774,    20,  8475,   450, 22446, 22446]])\n"
          ]
        }
      ],
      "source": [
        "print(text[:5])\n",
        "batch_ix = to_matrix(text[:5])\n",
        "batch_ix = torch.tensor(batch_ix, dtype=torch.int64)\n",
        "print(batch_ix)"
      ]
    },
    {
      "cell_type": "markdown",
      "metadata": {
        "id": "hqD3xL9Rj0Co"
      },
      "source": [
        "### Building the model"
      ]
    },
    {
      "cell_type": "markdown",
      "metadata": {
        "id": "FXWmBCeaj0Co"
      },
      "source": [
        "Now we want to build and train recurrent neural net which would be able to something similar to Shakespeare's poetry.\n",
        "\n",
        "Let's use vanilla RNN, similar to the one created during the lesson."
      ]
    },
    {
      "cell_type": "code",
      "execution_count": 17,
      "metadata": {
        "id": "LWmM98PXj0Co"
      },
      "outputs": [],
      "source": [
        "num_tokens = max(idx_to_token.keys()) + 1\n",
        "\n",
        "class CharRNNLoop(nn.Module):\n",
        "    def __init__(self, num_tokens=num_tokens, emb_size=MAX_LENGTH, rnn_num_units=64):\n",
        "        super(self.__class__, self).__init__()\n",
        "        self.num_units = rnn_num_units\n",
        "        self.emb = nn.Embedding(num_tokens, emb_size)\n",
        "        self.rnn = nn.RNN(emb_size, rnn_num_units, batch_first=True)\n",
        "        self.hid_to_logits = nn.Linear(rnn_num_units, num_tokens)\n",
        "        \n",
        "    def forward(self, x, h_0):\n",
        "        assert isinstance(x.data, torch.LongTensor)\n",
        "        h_seq, h_n = self.rnn(self.emb(x), h_0)        \n",
        "        next_logits = self.hid_to_logits(h_seq)\n",
        "        next_logp = F.log_softmax(next_logits, dim=-1)\n",
        "        return h_n, next_logp\n",
        "    \n",
        "    def initial_state(self, batch_size):\n",
        "        \"\"\" return rnn state before it processes first input (aka h0) \"\"\"\n",
        "        return torch.zeros(1, batch_size, self.num_units, requires_grad=True)"
      ]
    },
    {
      "cell_type": "code",
      "execution_count": 18,
      "metadata": {
        "id": "LIeUgncJj0Co"
      },
      "outputs": [],
      "source": [
        "model = CharRNNLoop()\n",
        "opt = torch.optim.Adam(model.parameters())\n",
        "criterion = nn.NLLLoss()\n",
        "\n",
        "history = []"
      ]
    },
    {
      "cell_type": "code",
      "execution_count": 20,
      "metadata": {
        "id": "B7jbjx2hj0Cp",
        "outputId": "af217ee7-7568-4154-d969-5730472d2e8e",
        "colab": {
          "base_uri": "https://localhost:8080/",
          "height": 265
        }
      },
      "outputs": [
        {
          "output_type": "display_data",
          "data": {
            "text/plain": [
              "<Figure size 432x288 with 1 Axes>"
            ],
            "image/png": "[encoded data removed]"
          },
          "metadata": {
            "needs_background": "light"
          }
        }
      ],
      "source": [
        "for i in range(1000):\n",
        "    batch_ix = to_matrix(sample(text, 32), max_len=MAX_LENGTH)\n",
        "    batch_ix = torch.tensor(batch_ix, dtype=torch.int64)\n",
        "    h_0 = model.initial_state(batch_size = 32)\n",
        "    \n",
        "    _, logp_seq = model(batch_ix, h_0)\n",
        "    \n",
        "    predictions_logp = logp_seq[:, :-1]\n",
        "    actual_next_tokens = batch_ix[:, 1:]\n",
        "\n",
        "    loss = criterion(predictions_logp.contiguous().view(-1, num_tokens), \n",
        "                  actual_next_tokens.contiguous().view(-1))\n",
        "    loss.backward()\n",
        "    opt.step()\n",
        "    opt.zero_grad()\n",
        "    \n",
        "    \n",
        "    history.append(loss.data.numpy())\n",
        "    if (i+1)%100==0:\n",
        "        clear_output(True)\n",
        "        plt.plot(history,label='loss')\n",
        "        plt.legend()\n",
        "        plt.show()\n",
        "\n",
        "assert np.mean(history[:10]) > np.mean(history[-10:]), \"RNN didn't converge.\""
      ]
    },
    {
      "cell_type": "markdown",
      "metadata": {
        "id": "5lOm84Mej0Cp"
      },
      "source": [
        "Plot the loss function (axis X: number of epochs, axis Y: loss function)."
      ]
    },
    {
      "cell_type": "code",
      "execution_count": 36,
      "metadata": {
        "id": "It9IKFpwj0Cp"
      },
      "outputs": [],
      "source": [
        "def generate_sample(model, seed_phrase=['']\n",
        "                    , max_length=MAX_LENGTH, temperature=1.0):\n",
        "\n",
        "    \n",
        "    x_sequence = [token_to_idx[token] for token in seed_phrase]\n",
        "    x_sequence = torch.tensor([[x_sequence]], dtype=torch.int64)\n",
        "    hid_state = model.initial_state(batch_size=1)\n",
        "    \n",
        "    \n",
        "  \n",
        "    for i in range(len(seed_phrase) - 1):\n",
        "        hid_state, out = model(x_sequence[:, :,i], hid_state)\n",
        "    \n",
        "    \n",
        "    for _ in range(max_length - len(seed_phrase)):\n",
        "    \n",
        "        hid_state, out = model(x_sequence[:, :,-1], hid_state)\n",
        "        \n",
        "        \n",
        "        p_next = F.softmax(out / temperature, dim=-1).data.numpy()[0][0]\n",
        "        next_ix = np.random.choice(num_tokens, p=p_next)\n",
        "        next_ix = torch.tensor([[[next_ix]]], dtype=torch.int64)\n",
        "        x_sequence = torch.cat([x_sequence, next_ix], dim=2)\n",
        "    x_sequence = torch.flatten(x_sequence)\n",
        "        \n",
        "    return ' '.join([idx_to_token[ix] for ix in x_sequence.data.numpy()])"
      ]
    },
    {
      "cell_type": "code",
      "source": [
        "for _ in range(15):\n",
        "    print(generate_sample(model))"
      ],
      "metadata": {
        "colab": {
          "base_uri": "https://localhost:8080/"
        },
        "id": "wjt38i_3udxG",
        "outputId": "cdf0a36e-4643-43a1-9110-7f9d275e4d85"
      },
      "execution_count": 39,
      "outputs": [
        {
          "output_type": "stream",
          "name": "stdout",
          "text": [
            " несколько камень строгих     \n",
            " с ним мордой карет    \n",
            " с пред отвечал     \n",
            " их половиной ночная     \n",
            " евгению своей      \n",
            " по столбик стыда     \n",
            " перси сплю      \n",
            " ж катенин жизни     \n",
            " разделась капитал хозяйский потопленные соврать   \n",
            " низостью младых      \n",
            " вс машет      \n",
            " сейчас невольны ей тот    \n",
            " дурачки       \n",
            " ну взор      \n",
            " но вс говорится путь    \n"
          ]
        }
      ]
    },
    {
      "cell_type": "markdown",
      "metadata": {
        "id": "WeUavoYCj0Cq"
      },
      "source": [
        "### More poetic model\n",
        "\n",
        "Let's use LSTM instead of vanilla RNN and compare the results."
      ]
    },
    {
      "cell_type": "markdown",
      "metadata": {
        "id": "1In8YBiuj0Cq"
      },
      "source": [
        "Plot the loss function of the number of epochs. Does the final loss become better?"
      ]
    },
    {
      "cell_type": "code",
      "execution_count": 40,
      "metadata": {
        "id": "J188qtvIj0Cq"
      },
      "outputs": [],
      "source": [
        "num_tokens = max(idx_to_token.keys()) + 1\n",
        "\n",
        "class CharLSTMLoop(nn.Module):\n",
        "    def __init__(self, num_tokens=num_tokens, emb_size=MAX_LENGTH, rnn_num_units=64):\n",
        "        super(self.__class__, self).__init__()\n",
        "        self.num_units = rnn_num_units\n",
        "        self.emb = nn.Embedding(num_tokens, emb_size)\n",
        "        self.lstm = nn.LSTM(emb_size, rnn_num_units, batch_first=True)\n",
        "        self.hid_to_logits = nn.Linear(rnn_num_units, num_tokens)\n",
        "        \n",
        "    def forward(self, x, h_0, c_0):\n",
        "        assert isinstance(x.data, torch.LongTensor)\n",
        "        h_seq, h = self.lstm(self.emb(x), (h_0,c_0))\n",
        "        next_logits = self.hid_to_logits(h_seq)\n",
        "        next_logp = F.log_softmax(next_logits, dim=-1)\n",
        "        return h[0], h[1], next_logp\n",
        "    \n",
        "    def initial_state(self, batch_size):\n",
        "        \"\"\" return rnn state before it processes first input (aka h0) \"\"\"\n",
        "        return torch.zeros(1, batch_size, self.num_units, requires_grad=True)"
      ]
    },
    {
      "cell_type": "code",
      "execution_count": 53,
      "metadata": {
        "id": "Tah7Lj53j0Cq"
      },
      "outputs": [],
      "source": [
        "model2 = CharLSTMLoop()\n",
        "opt = torch.optim.Adam(model2.parameters())\n",
        "criterion = nn.NLLLoss()\n",
        "\n",
        "history = []"
      ]
    },
    {
      "cell_type": "code",
      "execution_count": 42,
      "metadata": {
        "id": "GGiucWn2j0Cq",
        "outputId": "8218438e-a1f6-452b-b8a3-0a926901f729",
        "colab": {
          "base_uri": "https://localhost:8080/",
          "height": 265
        }
      },
      "outputs": [
        {
          "output_type": "display_data",
          "data": {
            "text/plain": [
              "<Figure size 432x288 with 1 Axes>"
            ],
            "image/png": "[encoded data removed]"
          },
          "metadata": {
            "needs_background": "light"
          }
        }
      ],
      "source": [
        "for i in range(1000):\n",
        "    batch_ix = to_matrix(sample(text, 32), max_len=MAX_LENGTH)\n",
        "    batch_ix = torch.tensor(batch_ix, dtype=torch.int64)\n",
        "    h_0 = model2.initial_state(batch_size = 32)\n",
        "    hn, cn, logp_seq = model2(batch_ix, h_0, h_0)\n",
        "    \n",
        "    predictions_logp = logp_seq[:, :-1]    \n",
        "    actual_next_tokens = batch_ix[:, 1:]\n",
        "\n",
        "    loss = criterion(predictions_logp.contiguous().view(-1, num_tokens), \n",
        "                  actual_next_tokens.contiguous().view(-1))\n",
        "    loss.backward()\n",
        "    opt.step()\n",
        "    opt.zero_grad()\n",
        "    \n",
        "    \n",
        "    history.append(loss.data.numpy())\n",
        "    if (i+1)%100==0:\n",
        "        clear_output(True)\n",
        "        plt.plot(history,label='loss')\n",
        "        plt.legend()\n",
        "        plt.show()\n",
        "        \n",
        "\n",
        "assert np.mean(history[:10]) > np.mean(history[-10:]), \"RNN didn't converge.\""
      ]
    },
    {
      "cell_type": "code",
      "execution_count": 48,
      "metadata": {
        "id": "dXFuiV5fj0Cr"
      },
      "outputs": [],
      "source": [
        "def generate_sample_lstm(model, seed_phrase=[''], max_length=MAX_LENGTH, temperature=1.0):\n",
        "\n",
        "    \n",
        "    x_sequence = [token_to_idx[token] for token in seed_phrase]\n",
        "    x_sequence = torch.tensor([[x_sequence]], dtype=torch.int64)\n",
        "    hid_state = model.initial_state(batch_size=1)\n",
        "    cn = model.initial_state(batch_size=1)\n",
        "    \n",
        "\n",
        "    for i in range(len(seed_phrase) - 1):\n",
        "        hid_state, cn, out = model(x_sequence[:, :,i], hid_state, cn)\n",
        "\n",
        "    for _ in range(max_length - len(seed_phrase)):\n",
        "        hid_state, cn, out = model(x_sequence[:, :,-1], hid_state, cn)\n",
        "        \n",
        "\n",
        "        \n",
        "        p_next = F.softmax(out / temperature, dim=-1).data.numpy()[0][0]\n",
        "        next_ix = np.random.choice(num_tokens, p=p_next)\n",
        "        next_ix = torch.tensor([[[next_ix]]], dtype=torch.int64)\n",
        "        x_sequence = torch.cat([x_sequence, next_ix], dim=2)\n",
        "    x_sequence = torch.flatten(x_sequence)\n",
        "    \n",
        "        \n",
        "    return ' '.join([idx_to_token[ix] for ix in x_sequence.data.numpy()])"
      ]
    },
    {
      "cell_type": "markdown",
      "metadata": {
        "id": "CAl1mBwlj0Cr"
      },
      "source": [
        "Generate text using the trained net with different `temperature` parameter: `[0.1, 0.2, 0.5, 1.0, 2.0]`.\n",
        "\n",
        "Evaluate the results visually, try to interpret them."
      ]
    },
    {
      "cell_type": "code",
      "execution_count": 51,
      "metadata": {
        "id": "ZHxikgbBj0Cr",
        "outputId": "30396c9c-7044-467f-ee61-4fb1c4179033",
        "colab": {
          "base_uri": "https://localhost:8080/"
        }
      },
      "outputs": [
        {
          "output_type": "stream",
          "name": "stdout",
          "text": [
            " слеза недаром      \n",
            " двери уток      \n",
            " народ что собой ее решил   \n",
            " обомлела ни любит     \n",
            " лондонский младость всяк     \n",
            " зовут брала ль флянов    \n",
            " далекой минут мы любви    \n",
            " извозчик влюблена мгле     \n",
            " младое       \n",
            " дышало и мечты     \n",
            " исчезает вновь      \n",
            " успел правда      \n",
            " не что несколько     \n",
            " холодной мир      \n",
            " катилась день у них    \n"
          ]
        }
      ],
      "source": [
        "for _ in range(15):\n",
        "    print(generate_sample_lstm(model2, seed_phrase=[''], temperature = 1))"
      ]
    },
    {
      "cell_type": "markdown",
      "metadata": {
        "id": "hPXg0jfJpLM4"
      },
      "source": [
        "### Saving and loading models"
      ]
    },
    {
      "cell_type": "markdown",
      "metadata": {
        "id": "Y7-lzBrGpLM4"
      },
      "source": [
        "Save the model to the disk, then load it and generate text. Examples are available [here](https://pytorch.org/tutorials/beginner/saving_loading_models.html])."
      ]
    },
    {
      "cell_type": "code",
      "metadata": {
        "id": "_fB3QQYspLM5"
      },
      "source": [
        "torch.save(model2, './lstm.pt')"
      ],
      "execution_count": 68,
      "outputs": []
    },
    {
      "cell_type": "code",
      "source": [
        "model_load = torch.load('./lstm_model.pt')"
      ],
      "metadata": {
        "id": "_2cK5cEg1CVk"
      },
      "execution_count": 69,
      "outputs": []
    },
    {
      "cell_type": "code",
      "source": [
        "for _ in range(15):\n",
        "    print(generate_sample_lstm(model_load, seed_phrase=[''], temperature = 1))"
      ],
      "metadata": {
        "colab": {
          "base_uri": "https://localhost:8080/"
        },
        "id": "zrgwnY6Z7trh",
        "outputId": "d69b0136-c1e9-4b63-c8db-edb23d118ece"
      },
      "execution_count": 70,
      "outputs": [
        {
          "output_type": "stream",
          "name": "stdout",
          "text": [
            " сохранит гостях сперва мне ее и в думать\n",
            " щадило тебя хоть глазами ум спешит повисла но\n",
            " там и с ей иль в и влюбленными\n",
            " таинственной поймала и шум к улететь вербный вот\n",
            " строгий вот встреча уверен вольность повороте но блистательных\n",
            " дышит домой их что иссеченных будет неугомонный на\n",
            " как обезоружить мечты нимало может поражен умела согласитесь\n",
            " письма и сатана ну скорей вчера сатана вы\n",
            " зиму онегин моей ее забывшись багряною он шум\n",
            " мужчин погружен с бедная забыть взяточник как что\n",
            " о он любви своей к и и вокруг\n",
            " штуки обвинял уж его и как грустный жена\n",
            " я кто ее последним последней перед наконец причуд\n",
            " в шумит семью многом критик воды франты забывал\n",
            " мог злобному кабинете здравствует моей послушайте чуть думала\n"
          ]
        }
      ]
    },
    {
      "cell_type": "markdown",
      "metadata": {
        "id": "3JgRv95Lj0Cs"
      },
      "source": [
        "### References\n",
        "1. <a href='http://karpathy.github.io/2015/05/21/rnn-effectiveness/'> Andrew Karpathy blog post about RNN. </a> \n",
        "There are several examples of genration: Shakespeare texts, Latex formulas, Linux Sourse Code and children names.\n",
        "2. <a href='https://github.com/karpathy/char-rnn'> Repo with char-rnn code </a>\n",
        "3. Cool repo with PyTorch examples: [link](https://github.com/spro/practical-pytorch`)"
      ]
    }
  ],
  "metadata": {
    "anaconda-cloud": {},
    "kernelspec": {
      "display_name": "Python 3",
      "language": "python",
      "name": "python3"
    },
    "language_info": {
      "codemirror_mode": {
        "name": "ipython",
        "version": 3
      },
      "file_extension": ".py",
      "mimetype": "text/x-python",
      "name": "python",
      "nbconvert_exporter": "python",
      "pygments_lexer": "ipython3",
      "version": "3.8.3"
    },
    "colab": {
      "provenance": []
    }
  },
  "nbformat": 4,
  "nbformat_minor": 0
}